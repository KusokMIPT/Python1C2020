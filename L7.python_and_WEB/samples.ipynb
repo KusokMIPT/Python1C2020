{
 "cells": [
  {
   "cell_type": "markdown",
   "metadata": {},
   "source": [
    "## \"Обычные запросы\" в google"
   ]
  },
  {
   "cell_type": "code",
   "execution_count": 2,
   "metadata": {
    "collapsed": false
   },
   "outputs": [
    {
     "data": {
      "text/html": [
       "<i>0.</i>  <a href=\"http://www.google.com/url?q=https://ru.wikipedia.org/wiki/Hello,_world!&amp;sa=U&amp;ved=0ahUKEwjC6aW62tfaAhVnP5oKHfyNBjEQFggcMAI&amp;usg=AOvVaw1iWdl8qcOWusL5lHioDO64\" target=\"_blank\"><b>Hello</b>, <b>world</b>! — Википедия</a>"
      ],
      "text/plain": [
       "<IPython.core.display.HTML object>"
      ]
     },
     "metadata": {},
     "output_type": "display_data"
    },
    {
     "data": {
      "text/html": [
       "<i>1.</i>  <a href=\"http://www.google.com/url?q=https://ru.wikipedia.org/wiki/Hello,_world!&amp;sa=U&amp;ved=0ahUKEwjC6aW62tfaAhVnP5oKHfyNBjEQFgggMAM&amp;usg=AOvVaw1UOiMZ814VavMyuhmaydFj\" target=\"_blank\"><b>Hello</b>, <b>world</b>! — Википедия</a>"
      ],
      "text/plain": [
       "<IPython.core.display.HTML object>"
      ]
     },
     "metadata": {},
     "output_type": "display_data"
    },
    {
     "data": {
      "text/html": [
       "<i>2.</i>  <a href=\"http://www.google.com/search?q=Hello,+World!&amp;newwindow=1&amp;ie=UTF-8&amp;prmd=ivns&amp;tbm=isch&amp;tbo=u&amp;source=univ&amp;sa=X&amp;ved=0ahUKEwjC6aW62tfaAhVnP5oKHfyNBjEQsAQIKg\">Картинки по запросу <b>Hello, World!</b></a>"
      ],
      "text/plain": [
       "<IPython.core.display.HTML object>"
      ]
     },
     "metadata": {},
     "output_type": "display_data"
    },
    {
     "data": {
      "text/html": [
       "<i>3.</i>  <a href=\"http://www.google.com/url?q=https://en.wikipedia.org/wiki/%2522Hello,_World!%2522_program&amp;sa=U&amp;ved=0ahUKEwjC6aW62tfaAhVnP5oKHfyNBjEQFgg2MAk&amp;usg=AOvVaw3VunWCMj6kJPHfciPs5xcT\" target=\"_blank\">\"<b>Hello</b>, <b>World</b>!\" program - Wikipedia</a>"
      ],
      "text/plain": [
       "<IPython.core.display.HTML object>"
      ]
     },
     "metadata": {},
     "output_type": "display_data"
    },
    {
     "data": {
      "text/html": [
       "<i>4.</i>  <a href=\"http://www.google.com/url?q=http://helloworld.ru/&amp;sa=U&amp;ved=0ahUKEwjC6aW62tfaAhVnP5oKHfyNBjEQFgg8MAo&amp;usg=AOvVaw1YG5ncHx4mEso_EjtkFNNh\" target=\"_blank\"><b>HELLOWORLD</b>.RU</a>"
      ],
      "text/plain": [
       "<IPython.core.display.HTML object>"
      ]
     },
     "metadata": {},
     "output_type": "display_data"
    },
    {
     "data": {
      "text/html": [
       "<i>5.</i>  <a href=\"http://www.google.com/url?q=https://vk.com/helloworldru&amp;sa=U&amp;ved=0ahUKEwjC6aW62tfaAhVnP5oKHfyNBjEQFghBMAs&amp;usg=AOvVaw0HmoBWDQlbWRCU47CvM0Gk\" target=\"_blank\"><b>HelloWorld</b>: Идеи для бюджетных путешествий | ВКонтакте</a>"
      ],
      "text/plain": [
       "<IPython.core.display.HTML object>"
      ]
     },
     "metadata": {},
     "output_type": "display_data"
    },
    {
     "data": {
      "text/html": [
       "<i>6.</i>  <a href=\"http://www.google.com/url?q=https://www.helloworld.com.au/&amp;sa=U&amp;ved=0ahUKEwjC6aW62tfaAhVnP5oKHfyNBjEQFghHMAw&amp;usg=AOvVaw0QRbpScbmId599PlW9Nf5n\" target=\"_blank\"><b>Helloworld</b> Travel – Deals on Accommodation, Flights, Cruises and ...</a>"
      ],
      "text/plain": [
       "<IPython.core.display.HTML object>"
      ]
     },
     "metadata": {},
     "output_type": "display_data"
    },
    {
     "data": {
      "text/html": [
       "<i>7.</i>  <a href=\"http://www.google.com/url?q=http://www.helloworld.com/&amp;sa=U&amp;ved=0ahUKEwjC6aW62tfaAhVnP5oKHfyNBjEQFghNMA0&amp;usg=AOvVaw3M1uxsX1jBvRwRRn6wkB6w\" target=\"_blank\"><b>HelloWorld</b>, A Merkle Company</a>"
      ],
      "text/plain": [
       "<IPython.core.display.HTML object>"
      ]
     },
     "metadata": {},
     "output_type": "display_data"
    },
    {
     "data": {
      "text/html": [
       "<i>8.</i>  <a href=\"http://www.google.com/url?q=https://helloworld.co.nz/&amp;sa=U&amp;ved=0ahUKEwjC6aW62tfaAhVnP5oKHfyNBjEQFghTMA4&amp;usg=AOvVaw0jNM0AJOnoaXEbXboTRiVQ\" target=\"_blank\"><b>helloworld</b>: Cheap Flights &amp; Holiday Packages</a>"
      ],
      "text/plain": [
       "<IPython.core.display.HTML object>"
      ]
     },
     "metadata": {},
     "output_type": "display_data"
    },
    {
     "data": {
      "text/html": [
       "<i>9.</i>  <a href=\"http://www.google.com/url?q=http://expressjs.com/ru/starter/hello-world.html&amp;sa=U&amp;ved=0ahUKEwjC6aW62tfaAhVnP5oKHfyNBjEQFghZMA8&amp;usg=AOvVaw0MP4XB0Vjn286u-R9ANoww\" target=\"_blank\">Пример \"<b>Hello World</b>\" в Express - Express.js</a>"
      ],
      "text/plain": [
       "<IPython.core.display.HTML object>"
      ]
     },
     "metadata": {},
     "output_type": "display_data"
    },
    {
     "data": {
      "text/html": [
       "<i>10.</i>  <a href=\"http://www.google.com/url?q=https://www.learnpython.org/en/Hello,_World!&amp;sa=U&amp;ved=0ahUKEwjC6aW62tfaAhVnP5oKHfyNBjEQFghfMBA&amp;usg=AOvVaw0eTC_9JqilNjk-Q6zxCCHR\" target=\"_blank\"><b>Hello</b>, <b>World</b>! - Learn Python - Free Interactive Python Tutorial</a>"
      ],
      "text/plain": [
       "<IPython.core.display.HTML object>"
      ]
     },
     "metadata": {},
     "output_type": "display_data"
    }
   ],
   "source": [
    "from requests import get, post\n",
    "import urllib\n",
    "import urllib.parse\n",
    "from bs4 import BeautifulSoup\n",
    "from IPython.core.display import display, HTML\n",
    "\n",
    "\n",
    "def google(query):\n",
    "    template = 'https://www.google.ru/search?{}'\n",
    "    url = template.format(urllib.parse.urlencode({'q' : query}))\n",
    "    req = get(url)\n",
    "    \n",
    "    assert req.status_code == 200, 'request failed'\n",
    "    soup = BeautifulSoup(req.text, \"lxml\")\n",
    "    \n",
    "    for i, li in enumerate(soup.findAll('h3', attrs={'class' : 'r'})):\n",
    "        link = li.find('a')\n",
    "        if link:\n",
    "            link['href'] = 'http://www.google.com' +  link['href']\n",
    "            link = '<i>{}.</i>  {}'.format(i, link)\n",
    "            display(HTML(str(link)))\n",
    "\n",
    "            \n",
    "google('Hello, World!')"
   ]
  },
  {
   "cell_type": "code",
   "execution_count": 3,
   "metadata": {
    "collapsed": false
   },
   "outputs": [],
   "source": [
    "query = 'Hello, World!'\n",
    "template = 'https://www.google.ru/search?{}'\n",
    "url = template.format(urllib.parse.urlencode({'q' : query}))\n",
    "req = get(url)\n",
    "\n",
    "assert req.status_code == 200, 'request failed'\n",
    "soup = BeautifulSoup(req.text, \"lxml\")\n",
    "\n",
    "for i, li in enumerate(soup.findAll('h3', attrs={'class' : 'r'})):\n",
    "    link = li.find('a')\n",
    "    if link:\n",
    "        link['href'] = 'http://www.google.com' +  link['href']\n",
    "        # link = '<i>{}.</i>  {}'.format(i, link)\n"
   ]
  },
  {
   "cell_type": "code",
   "execution_count": 4,
   "metadata": {
    "collapsed": false
   },
   "outputs": [
    {
     "data": {
      "text/plain": [
       "'Hello, World! - Learn Python - Free Interactive Python Tutorial'"
      ]
     },
     "execution_count": 4,
     "metadata": {},
     "output_type": "execute_result"
    }
   ],
   "source": [
    "link.text"
   ]
  },
  {
   "cell_type": "markdown",
   "metadata": {},
   "source": [
    "## Метод get"
   ]
  },
  {
   "cell_type": "code",
   "execution_count": 5,
   "metadata": {
    "collapsed": false
   },
   "outputs": [
    {
     "data": {
      "text/html": [
       "<table class=\"images_table\" style=\"table-layout:fixed\" width=\"100%\"><tr><td style=\"width:25%;word-wrap:break-word\"><a href=\"/url?q=https://www.youtube.com/watch%3Fv%3DmK72EwuxZAU&amp;sa=U&amp;ved=0ahUKEwjev7TH2tfaAhULDZoKHc5gCccQwW4IFjAA&amp;usg=AOvVaw3V06u0SZTF8uOd9PP6PFBG\" target=\"_blank\"><img alt=\"Картинки по запросу котики\" height=\"97\" src=\"https://encrypted-tbn0.gstatic.com/images?q=tbn:ANd9GcRGmgTiBZNo6gRZQgFhXuyJ6t3dGL_enzST14H6vZw5r3xGHr5iPxP2VDvB\" width=\"129\"/></a><br/><cite title=\"youtube.com\">youtube.com</cite><br/>Смешные <b>котики</b>! - YouTube<br/>480 Х 360; 24 КБ - jpg</td><td style=\"width:25%;word-wrap:break-word\"><a href=\"/url?q=https://medialeaks.ru/2210dalex-kotiki-na-hlebushke-vyizvali-azhiotazh-v-tvittere-posmotrite-sami-kak-oni-prekrasnyi/&amp;sa=U&amp;ved=0ahUKEwjev7TH2tfaAhULDZoKHc5gCccQwW4IGDAB&amp;usg=AOvVaw3mfiK3bX2gZYqi7Uco9Riy\" target=\"_blank\"><img alt=\"Картинки по запросу котики\" height=\"90\" src=\"https://encrypted-tbn0.gstatic.com/images?q=tbn:ANd9GcS7m1AABWMkD8TrGESKXcKZY7VFlNf8V9KfM8KEr2DOmSyi_ldCRWg33UzO\" width=\"135\"/></a><br/><cite title=\"medialeaks.ru\">medialeaks.ru</cite><br/><b>Котики</b> на хлебушке - самое прекрасное, что у нас есть<br/>600 Х 400; 16 КБ - jpg</td><td style=\"width:25%;word-wrap:break-word\"><a href=\"/url?q=https://www.youtube.com/watch%3Fv%3DM-XtB0R3ri4&amp;sa=U&amp;ved=0ahUKEwjev7TH2tfaAhULDZoKHc5gCccQwW4IGjAC&amp;usg=AOvVaw3yeAsY83EEAo8rJW27XMj9\" target=\"_blank\"><img alt=\"Картинки по запросу котики\" height=\"84\" src=\"https://encrypted-tbn0.gstatic.com/images?q=tbn:ANd9GcQD90Zeb-KDfAz6qLRlAyy_jUEvyh3_JL28SMu1BO_6_w5Eivl5hoSHRv8\" width=\"150\"/></a><br/><cite title=\"youtube.com\">youtube.com</cite><br/>ПОДБОРКА ЛУЧШИХ МОМЕНТОВ 2016 СМЕШНЫЕ КОТЫ! СМЕШНЫЕ <b>КОТИКИ</b> НЕЛЕПЫЕ ...<br/>1280 Х 720; 28 КБ - jpg</td><td style=\"width:25%;word-wrap:break-word\"><a href=\"/url?q=https://ru.tsn.ua/tags/%25D0%25BA%25D0%25BE%25D1%2582%25D0%25B8%25D0%25BA%25D0%25B8&amp;sa=U&amp;ved=0ahUKEwjev7TH2tfaAhULDZoKHc5gCccQwW4IHDAD&amp;usg=AOvVaw3ZeLIVJAFNo82_Ezd6jy8g\" target=\"_blank\"><img alt=\"Картинки по запросу котики\" height=\"79\" src=\"https://encrypted-tbn0.gstatic.com/images?q=tbn:ANd9GcQQ-5BLrifh6_sXTyIiXE0_5tt2-mgWJmtbEjUkECX0eB-HY8FabdDpFi8\" width=\"150\"/></a><br/><cite title=\"ru.tsn.ua\">ru.tsn.ua</cite><br/><b>котики</b> - Список новостей - TCH.ua<br/>1200 Х 630; 73 КБ - jpg</td></tr><tr><td style=\"width:25%;word-wrap:break-word\"><a href=\"/url?q=https://pikabu.ru/story/kotiki_dlya_nastroeniya_mrr__4188461&amp;sa=U&amp;ved=0ahUKEwjev7TH2tfaAhULDZoKHc5gCccQwW4IHjAE&amp;usg=AOvVaw1nzA8xeVKAYCLxNph-f9b8\" target=\"_blank\"><img alt=\"Картинки по запросу котики\" height=\"150\" src=\"https://encrypted-tbn0.gstatic.com/images?q=tbn:ANd9GcR-wtGrJ-MHWNjq7trOq79g--mdQZxi9CDx1N0kvxiCX8XTn3FcVVEKTHyGHQ\" width=\"150\"/></a><br/><cite title=\"pikabu.ru\">pikabu.ru</cite><br/><b>Котики</b> для настроения мрр ^^<br/>1080 Х 1080; 78 КБ - jpg</td><td style=\"width:25%;word-wrap:break-word\"><a href=\"/url?q=https://www.olx.ua/zhivotnye/koshki/lv/q-%25D0%25BA%25D0%25BE%25D1%2582%25D0%25B8%25D0%25BA%25D0%25B8/&amp;sa=U&amp;ved=0ahUKEwjev7TH2tfaAhULDZoKHc5gCccQwW4IIDAF&amp;usg=AOvVaw3fFhK_g_BubARTrYOiqH9q\" target=\"_blank\"><img alt=\"Картинки по запросу котики\" height=\"88\" src=\"https://encrypted-tbn0.gstatic.com/images?q=tbn:ANd9GcTpz9M462mXJ6mlukYyEGaIGh4eB-QtVVNtijSQ0ZBOeqSLKez19ZF9WyU\" width=\"112\"/></a><br/><cite title=\"olx.ua\">olx.ua</cite><br/><b>Котики</b> - Кошки в Львовская область - OLX.ua<br/>258 Х 203; 12 КБ - jpg</td><td style=\"width:25%;word-wrap:break-word\"><a href=\"/url?q=http://bipbap.ru/pictures/kartinki-nyashnye-kotiki-35-foto.html&amp;sa=U&amp;ved=0ahUKEwjev7TH2tfaAhULDZoKHc5gCccQwW4IIjAG&amp;usg=AOvVaw3N6-nCBxrDWl2kXU6DFozl\" target=\"_blank\"><img alt=\"Картинки по запросу котики\" height=\"91\" src=\"https://encrypted-tbn0.gstatic.com/images?q=tbn:ANd9GcQ0WYs9veczaHluHhgJ2P6qAS6BGkTEtIk1Ls9gWoWcRuMkzSD_59UFzBg\" width=\"137\"/></a><br/><cite title=\"bipbap.ru\">bipbap.ru</cite><br/>Картинки няшные <b>котики</b> (35 фото) • Прикольные картинки и юмор<br/>640 Х 426; 27 КБ - jpg</td><td style=\"width:25%;word-wrap:break-word\"><a href=\"/url?q=https://www.segodnya.ua/tags/%25D0%25BA%25D0%25BE%25D1%2582%25D0%25B8%25D0%25BA%25D0%25B8.html&amp;sa=U&amp;ved=0ahUKEwjev7TH2tfaAhULDZoKHc5gCccQwW4IJDAH&amp;usg=AOvVaw2HvgJ4fvvrNhB4AieQB4p1\" target=\"_blank\"><img alt=\"Картинки по запросу котики\" height=\"77\" src=\"https://encrypted-tbn0.gstatic.com/images?q=tbn:ANd9GcTmXujVm70mt4NEOV2Y00ZkabaS8iVM_1L7K4LXfjaIb7yB7WJQSsazyA\" width=\"116\"/></a><br/><cite title=\"segodnya.ua\">segodnya.ua</cite><br/><b>котики</b> - все новости segodnya.ua по запросу <b>котики</b> | СЕГОДНЯ<br/>300 Х 200; 10 КБ - jpg</td></tr><tr><td style=\"width:25%;word-wrap:break-word\"><a href=\"/url?q=https://www.youtube.com/watch%3Fv%3DJaciHAcvlyA&amp;sa=U&amp;ved=0ahUKEwjev7TH2tfaAhULDZoKHc5gCccQwW4IJjAI&amp;usg=AOvVaw19vNuPn0mkocz7cvT2GbTM\" target=\"_blank\"><img alt=\"Картинки по запросу котики\" height=\"97\" src=\"https://encrypted-tbn0.gstatic.com/images?q=tbn:ANd9GcT175M8Xvf30FyFfvAziUPdypxv4vR1XaHQr9cxDzPXFyTN3YMEV4Mh0UE\" width=\"129\"/></a><br/><cite title=\"youtube.com\">youtube.com</cite><br/>МИ-МИ-МИ за 1500000 рублей <b>КОТИКИ</b> ТОП 7 - YouTube<br/>480 Х 360; 29 КБ - jpg</td><td style=\"width:25%;word-wrap:break-word\"><a href=\"/url?q=https://forfun.com/1bH7&amp;sa=U&amp;ved=0ahUKEwjev7TH2tfaAhULDZoKHc5gCccQwW4IKDAJ&amp;usg=AOvVaw2u0cczWDkOThW1QmsJhu6p\" target=\"_blank\"><img alt=\"Картинки по запросу котики\" height=\"126\" src=\"https://encrypted-tbn0.gstatic.com/images?q=tbn:ANd9GcQ691EZsCk-_YboEGxY1zj4Kz-GSZdbqeVJ-AcaENrrg2MgWyn3I4jxXlI\" width=\"126\"/></a><br/><cite title=\"forfun.com\">forfun.com</cite><br/><b>Котики</b> и радуга - ForFun<br/>429 Х 429; 39 КБ - jpeg</td><td style=\"width:25%;word-wrap:break-word\"><a href=\"/url?q=https://ria.ru/photolents/20170301/1488412994.html&amp;sa=U&amp;ved=0ahUKEwjev7TH2tfaAhULDZoKHc5gCccQwW4IKjAK&amp;usg=AOvVaw3BCsp_jiNkqDJmqFH4J-VD\" target=\"_blank\"><img alt=\"Картинки по запросу котики\" height=\"148\" src=\"https://encrypted-tbn0.gstatic.com/images?q=tbn:ANd9GcTSzwc1UrrsRqU4LTIzP5XwxqcPBQCXHBwyYafa30bW7bIKKangRRkU0zSu\" width=\"148\"/></a><br/><cite title=\"ria.ru\">ria.ru</cite><br/>Знаменитые <b>котики</b> - РИА Новости, 01.03.2017<br/>960 Х 960; 87 КБ - jpg</td><td style=\"width:25%;word-wrap:break-word\"><a href=\"/url?q=https://medialeaks.ru/2210dalex-kotiki-na-hlebushke-vyizvali-azhiotazh-v-tvittere-posmotrite-sami-kak-oni-prekrasnyi/&amp;sa=U&amp;ved=0ahUKEwjev7TH2tfaAhULDZoKHc5gCccQwW4ILDAL&amp;usg=AOvVaw3dD9-9E16SrQP5XCG09BzA\" target=\"_blank\"><img alt=\"Картинки по запросу котики\" height=\"115\" src=\"https://encrypted-tbn0.gstatic.com/images?q=tbn:ANd9GcRT7Uc56bJ38fhyE_713D33WVZ-c3MznZf_JI8ksRmygcUqBwYmUW62woQ\" width=\"135\"/></a><br/><cite title=\"medialeaks.ru\">medialeaks.ru</cite><br/><b>Котики</b> на хлебушке - самое прекрасное, что у нас есть<br/>586 Х 500; 15 КБ - jpg</td></tr><tr><td style=\"width:25%;word-wrap:break-word\"><a href=\"/url?q=https://pikabu.ru/story/kotiki_dlya_nastroeniya_mrr__4188461&amp;sa=U&amp;ved=0ahUKEwjev7TH2tfaAhULDZoKHc5gCccQwW4ILjAM&amp;usg=AOvVaw2oynnTloUruAozh2bv5T71\" target=\"_blank\"><img alt=\"Картинки по запросу котики\" height=\"130\" src=\"https://encrypted-tbn0.gstatic.com/images?q=tbn:ANd9GcTOWWN0TIyKP-71vVQj-gnKNYvN1_BdD_VUao8jnT8LZ4l--sNzyRh-46xG\" width=\"137\"/></a><br/><cite title=\"pikabu.ru\">pikabu.ru</cite><br/><b>Котики</b> для настроения мрр ^^<br/>650 Х 617; 52 КБ - jpg</td><td style=\"width:25%;word-wrap:break-word\"><a href=\"/url?q=http://droplak.ru/%3Fp%3D5584&amp;sa=U&amp;ved=0ahUKEwjev7TH2tfaAhULDZoKHc5gCccQwW4IMDAN&amp;usg=AOvVaw3zV1k2yt255devL9iomfZH\" target=\"_blank\"><img alt=\"Картинки по запросу котики\" height=\"135\" src=\"https://encrypted-tbn0.gstatic.com/images?q=tbn:ANd9GcSrrF6qvzxhRyPKzs-gsfjSXHLpoTo9dhA_7L0uxyKC7gkoWYc-mkE5kh-M\" width=\"135\"/></a><br/><cite title=\"droplak.ru\">droplak.ru</cite><br/>Почему кошки(<b>котики</b>) так популярны в Интернете | Дроплак.ру<br/>604 Х 604; 84 КБ - jpg</td><td style=\"width:25%;word-wrap:break-word\"><a href=\"/url?q=http://allcatsworld.com/1406&amp;sa=U&amp;ved=0ahUKEwjev7TH2tfaAhULDZoKHc5gCccQwW4IMjAO&amp;usg=AOvVaw1tNkh1FrdsxicKgkK6Ou8o\" target=\"_blank\"><img alt=\"Картинки по запросу котики\" height=\"71\" src=\"https://encrypted-tbn0.gstatic.com/images?q=tbn:ANd9GcQwk20zgIDom79Iquzi_u6W86dTnuwBApvd5fLWikcCcvWI7VwrWBekfSs\" width=\"141\"/></a><br/><cite title=\"allcatsworld.com\">allcatsworld.com</cite><br/>Фотодоказательства того, что <b>котики</b> растут невероятно быстро<br/>750 Х 379; 58 КБ - jpg</td><td style=\"width:25%;word-wrap:break-word\"><a href=\"/url?q=https://ru.tsn.ua/tags/%25D0%25BA%25D0%25BE%25D1%2582%25D0%25B8%25D0%25BA%25D0%25B8&amp;sa=U&amp;ved=0ahUKEwjev7TH2tfaAhULDZoKHc5gCccQwW4INDAP&amp;usg=AOvVaw1O0aFqrFHO8IHnmUUFspnK\" target=\"_blank\"><img alt=\"Картинки по запросу котики\" height=\"78\" src=\"https://encrypted-tbn0.gstatic.com/images?q=tbn:ANd9GcTjB6Pq8EIHWaHIkWfckV3y7EKKVgjbZ8mB5ZWr9f-hsjPKLJZ-y545ow\" width=\"117\"/></a><br/><cite title=\"ru.tsn.ua\">ru.tsn.ua</cite><br/><b>котики</b> - Список новостей - TCH.ua<br/>315 Х 210; 13 КБ - jpeg</td></tr><tr><td style=\"width:25%;word-wrap:break-word\"><a href=\"/url?q=http://nastroenie.tv/episode/99952&amp;sa=U&amp;ved=0ahUKEwjev7TH2tfaAhULDZoKHc5gCccQwW4INjAQ&amp;usg=AOvVaw2HmSqdGSWj5zkuuyiTv-sx\" target=\"_blank\"><img alt=\"Картинки по запросу котики\" height=\"92\" src=\"https://encrypted-tbn0.gstatic.com/images?q=tbn:ANd9GcSAv-IFhIbt_1Tx7-ZVaSAzlLu1s-gYzfm4o-ziyssV83-0RivNb3_WfJ9x\" width=\"147\"/></a><br/><cite title=\"nastroenie.tv\">nastroenie.tv</cite><br/><b>Котики</b>: терапия или наркотики? : Включи настроение<br/>905 Х 566; 92 КБ - jpg</td><td style=\"width:25%;word-wrap:break-word\"><a href=\"/url?q=https://vk.com/sadnesskitty&amp;sa=U&amp;ved=0ahUKEwjev7TH2tfaAhULDZoKHc5gCccQwW4IODAR&amp;usg=AOvVaw0LojKfykrDUzTPu6zKBDmF\" target=\"_blank\"><img alt=\"Картинки по запросу котики\" height=\"104\" src=\"https://encrypted-tbn0.gstatic.com/images?q=tbn:ANd9GcQLhgmfX4SL9wOwYQWn-GcTIVvqivuCU-njI8uDlKx6-WSb6kRS-9WAASs\" width=\"104\"/></a><br/><cite title=\"vk.com\">vk.com</cite><br/>Грустные <b>котики</b> | ВКонтакте<br/>200 Х 200; 18 КБ - jpg</td><td style=\"width:25%;word-wrap:break-word\"><a href=\"/url?q=http://www.catgallery.ru/kototeka/2015-07-17/kotiki-i-ih-napitki-foto/&amp;sa=U&amp;ved=0ahUKEwjev7TH2tfaAhULDZoKHc5gCccQwW4IOjAS&amp;usg=AOvVaw0ih9jcP3XdFrPCpOuE7Ao9\" target=\"_blank\"><img alt=\"Картинки по запросу котики\" height=\"133\" src=\"https://encrypted-tbn0.gstatic.com/images?q=tbn:ANd9GcQbRv3GyLV86kOE_tRxYN1ay-F_F-L42QjLBX9OaZWJVkiN7-dz7NqGxsuf\" width=\"133\"/></a><br/><cite title=\"catgallery.ru\">catgallery.ru</cite><br/><b>Котики</b> и их напитки (фото) — Кототека — самое интересное о мире кошек<br/>550 Х 550; 45 КБ - jpg</td><td style=\"width:25%;word-wrap:break-word\"><a href=\"/url?q=https://ok.ru/group53251345547354&amp;sa=U&amp;ved=0ahUKEwjev7TH2tfaAhULDZoKHc5gCccQwW4IPDAT&amp;usg=AOvVaw3tiY2e9hURcgYiEzwErzLu\" target=\"_blank\"><img alt=\"Картинки по запросу котики\" height=\"115\" src=\"https://encrypted-tbn0.gstatic.com/images?q=tbn:ANd9GcRRV8hGCOfDrKrk9uCKBz1i2B0lZcXqWealpmF8BVCzI3quOvPWJ3MmkA\" width=\"115\"/></a><br/><cite title=\"ok.ru\">ok.ru</cite><br/><b>Котики</b> | OK.RU<br/>288 Х 288; 47 КБ</td></tr></table>"
      ],
      "text/plain": [
       "<IPython.core.display.HTML object>"
      ]
     },
     "metadata": {},
     "output_type": "display_data"
    }
   ],
   "source": [
    "query = \"\"\n",
    "template = 'http://localhost:80/'\n",
    "url = template.format(urllib.parse.urlencode({'q' : query}))\n",
    "req = get(url)\n",
    "\n",
    "assert req.status_code == 200, 'request failed'\n",
    "soup = BeautifulSoup(req.text, \"lxml\")\n",
    "\n",
    "display(HTML(str(soup.findAll(\"table\", attrs={\"class\": \"images_table\"})[0])))"
   ]
  },
  {
   "cell_type": "markdown",
   "metadata": {},
   "source": [
    "## Метод post"
   ]
  },
  {
   "cell_type": "code",
   "execution_count": 6,
   "metadata": {
    "collapsed": false
   },
   "outputs": [
    {
     "data": {
      "text/html": [
       "<p>Your login information was correct.</p>"
      ],
      "text/plain": [
       "<IPython.core.display.HTML object>"
      ]
     },
     "metadata": {},
     "output_type": "display_data"
    }
   ],
   "source": [
    "def login(username, password):\n",
    "    req = post(\"http://localhost:80/login\", data={\"username\": username, \"password\": password})\n",
    "    display(HTML(str(req.text)))\n",
    "    \n",
    "login(\"king_menin\", \"pass\")"
   ]
  },
  {
   "cell_type": "code",
   "execution_count": null,
   "metadata": {
    "collapsed": true
   },
   "outputs": [],
   "source": []
  }
 ],
 "metadata": {
  "kernelspec": {
   "display_name": "Python 3",
   "language": "python",
   "name": "python3"
  },
  "language_info": {
   "codemirror_mode": {
    "name": "ipython",
    "version": 3
   },
   "file_extension": ".py",
   "mimetype": "text/x-python",
   "name": "python",
   "nbconvert_exporter": "python",
   "pygments_lexer": "ipython3",
   "version": "3.6.0"
  }
 },
 "nbformat": 4,
 "nbformat_minor": 2
}
