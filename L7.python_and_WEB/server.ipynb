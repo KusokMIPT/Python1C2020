{
 "cells": [
  {
   "cell_type": "markdown",
   "metadata": {},
   "source": [
    "## Пишем свой python-сервер с bottle\n",
    "Просто, зато эффективно"
   ]
  },
  {
   "cell_type": "code",
   "execution_count": 1,
   "metadata": {
    "collapsed": true
   },
   "outputs": [],
   "source": [
    "from bottle import request, run, route\n",
    "import urllib\n",
    "import urllib.parse\n",
    "import requests\n",
    "\n",
    "LOGIN = \"king_menin\"\n",
    "PASS = \"pass\""
   ]
  },
  {
   "cell_type": "code",
   "execution_count": 2,
   "metadata": {
    "collapsed": false
   },
   "outputs": [],
   "source": [
    "@route('/')\n",
    "def main():\n",
    "    query = \"q=котики&tbm=isch\"\n",
    "    template = 'https://www.google.ru/search?{}'.format(query)\n",
    "    url = template.format(urllib.parse.urlencode({'q': query}))\n",
    "    req = requests.get(url)\n",
    "    return req.text\n",
    "\n",
    "\n",
    "@route('/login')\n",
    "def login():\n",
    "    return '''\n",
    "        <form action=\"/login\" method=\"post\">\n",
    "            Username: <input name=\"username\" type=\"text\" />\n",
    "            Password: <input name=\"password\" type=\"password\" />\n",
    "            <input value=\"Login\" type=\"submit\" />\n",
    "        </form>\n",
    "    '''\n",
    "\n",
    "\n",
    "def check_login(username, password):\n",
    "    return username == LOGIN and password == PASS\n",
    "\n",
    "\n",
    "@route('/login', method='POST')\n",
    "def do_login():\n",
    "    username = request.forms.get('username')\n",
    "    password = request.forms.get('password')\n",
    "    if check_login(username, password):\n",
    "        return \"<p>Your login information was correct.</p>\"\n",
    "    else:\n",
    "        return \"<p>Login failed.</p>\"\n"
   ]
  },
  {
   "cell_type": "code",
   "execution_count": null,
   "metadata": {
    "collapsed": false
   },
   "outputs": [
    {
     "name": "stderr",
     "output_type": "stream",
     "text": [
      "Bottle v0.12.13 server starting up (using WSGIRefServer())...\n",
      "Listening on http://localhost:80/\n",
      "Hit Ctrl-C to quit.\n",
      "\n",
      "127.0.0.1 - - [26/Apr/2018 13:01:26] \"GET / HTTP/1.1\" 200 44335\n",
      "C:\\ProgramData\\Anaconda3\\lib\\re.py:301: DeprecationWarning: Flags not at the start of the expression ((?m)[urbURB]?(?:''( (truncated)\n",
      "  p = sre_compile.compile(pattern, flags)\n",
      "C:\\ProgramData\\Anaconda3\\lib\\sre_parse.py:763: DeprecationWarning: Flags not at the start of the expression \\{\\{((?:((?m)[urbURB (truncated)\n",
      "  p = _parse_sub(source, state, sub_verbose)\n",
      "127.0.0.1 - - [26/Apr/2018 13:01:26] \"GET /textinputassistant/tia.png HTTP/1.1\" 404 767\n",
      "127.0.0.1 - - [26/Apr/2018 13:01:26] \"GET /xjs/_/js/k=xjs.hp.en.CK-L2aUOYQw.O/m=sb_he,d/rt=j/d=1/rs=ACT90oFYbOQtiT_Dkb-po2VJxP_8jE1IJQ HTTP/1.1\" 404 909\n",
      "127.0.0.1 - - [26/Apr/2018 13:01:27] \"GET /images/nav_logo229.png HTTP/1.1\" 404 759\n",
      "127.0.0.1 - - [26/Apr/2018 13:01:27] \"GET /client_204?&atyp=i&biw=1600&bih=769&ei=QKThWre3DsWL6ASc8rSgCA HTTP/1.1\" 404 802\n",
      "127.0.0.1 - - [26/Apr/2018 13:11:37] \"GET / HTTP/1.1\" 200 44324\n",
      "127.0.0.1 - - [26/Apr/2018 13:11:47] \"POST /login HTTP/1.1\" 200 42\n"
     ]
    }
   ],
   "source": [
    "run(host='localhost', port=80, debug=True)"
   ]
  },
  {
   "cell_type": "code",
   "execution_count": null,
   "metadata": {
    "collapsed": true
   },
   "outputs": [],
   "source": []
  }
 ],
 "metadata": {
  "kernelspec": {
   "display_name": "Python 3",
   "language": "python",
   "name": "python3"
  },
  "language_info": {
   "codemirror_mode": {
    "name": "ipython",
    "version": 3
   },
   "file_extension": ".py",
   "mimetype": "text/x-python",
   "name": "python",
   "nbconvert_exporter": "python",
   "pygments_lexer": "ipython3",
   "version": "3.6.0"
  }
 },
 "nbformat": 4,
 "nbformat_minor": 2
}
