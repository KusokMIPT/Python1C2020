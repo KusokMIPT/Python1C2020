{
 "cells": [
  {
   "cell_type": "markdown",
   "metadata": {},
   "source": [
    "# Задание 7"
   ]
  },
  {
   "cell_type": "markdown",
   "metadata": {},
   "source": [
    "## 1. PropertyCreator (0.2 балла)\n",
    "\n",
    "Напишите мета класс для создания свойств (property) класса из функций начинающихся с \"set\\_\", \"get\\_\" или \"del_\". Пример использования:\n",
    "<code>\n",
    "class TestPropertyCreator(metaclass=PropertyCreator):\n",
    "    def \\__init\\__(self, lo):\n",
    "        self.__x = None\n",
    "        self.lo = lo\n",
    "\n",
    "    def get_x(self):\n",
    "        return self.__x\n",
    "\n",
    "    def set_x(self, value):\n",
    "        if value < self.lo:\n",
    "            raise ValueError(\"Value must in condition: {} <= value\".format(self.lo))\n",
    "        self.__x = value\n",
    "    \n",
    "    def del_x(self):\n",
    "        self.__x = \"No more\"\n",
    "\n",
    "    pass\n",
    "\n",
    "\n",
    "obj = TestPropertyCreator(5)\n",
    "obj.x = 4\n",
    "print(obj.x)\n",
    "del (obj.x)\n",
    "</code>\n",
    "\n",
    "* Мета класс должен поддерживать наследование, в смысле создавать свойства у потомков.\n",
    "* Должен поддерживать частичное описание свойств, т. е. например, описание одного метода get_val (без set_val и del_val).\n",
    "* Поддерживать множественное использование одного свойства с одним именем в разных классах:\n",
    "\n",
    "<code>\n",
    "class A(metaclass=PropertyCreator):\n",
    "    def get_x(self):\n",
    "        return \"x in class A\"\n",
    "\n",
    "class B(metaclass=PropertyCreator):\n",
    "    def get_x(self):\n",
    "        return \"x in class B\"\n",
    "\n",
    "class C(metaclass=PropertyCreator):\n",
    "    def set_x(self, value):\n",
    "        self.value = \"x in class C\"\n",
    "    def get_x(self):\n",
    "        return self.value\n",
    "</code>\n",
    "* Должен уметь обрабатывать имен с несколькими подчеркиваниями \"get_raw_text\"."
   ]
  },
  {
   "cell_type": "markdown",
   "metadata": {},
   "source": [
    "#### Решение"
   ]
  },
  {
   "cell_type": "markdown",
   "metadata": {},
   "source": [
    "Создадим метакласс `PropertyCreator` который будет управлять поведением при создании класса. "
   ]
  },
  {
   "cell_type": "code",
   "execution_count": 41,
   "metadata": {},
   "outputs": [],
   "source": [
    "def add_prop_to_dict(properties: dict, prop_name: str, prop_type:str, prop_body):\n",
    "    if (properties.get(prop_name) == None):\n",
    "        properties[prop_name] = {}\n",
    "    properties[prop_name][prop_type] = prop_body\n",
    "\n",
    "class PropertyCreator(type):\n",
    "        \n",
    "    def __new__(cls, name, bases, attrs):\n",
    "        \n",
    "        properties = dict()      \n",
    "    \n",
    "        # attrs present as dict name and callable func\n",
    "        for attr_name, attr_body in attrs.items():\n",
    "            if (callable(attr_body)):\n",
    "                prop_name = attr_name[4:]\n",
    "                prop_type =  attr_name[:4]\n",
    "                if (prop_type in ['get_', 'set_', 'del_']):\n",
    "                    add_prop_to_dict(properties, prop_name, prop_type[:3], attr_body)\n",
    "                    \n",
    "        for prop_name in properties:\n",
    "            attrs[prop_name] = property(properties[prop_name].get('get'), properties[prop_name].get('set'), \n",
    "                                       properties[prop_name].get('del'))               \n",
    "        \n",
    "        return super().__new__(cls, name, bases, attrs)  "
   ]
  },
  {
   "cell_type": "markdown",
   "metadata": {},
   "source": [
    "_Замечание:_ Если требовалось чтобы методы set и get создавались(в случае их отсутсвия к классе), то это решение внизу ноута)."
   ]
  },
  {
   "cell_type": "markdown",
   "metadata": {},
   "source": [
    "#### Протестируйем свое решение"
   ]
  },
  {
   "cell_type": "code",
   "execution_count": 42,
   "metadata": {},
   "outputs": [
    {
     "name": "stdout",
     "output_type": "stream",
     "text": [
      "Value must in condition: 1 <= value\n",
      "5\n"
     ]
    }
   ],
   "source": [
    "def test_simple():\n",
    "    class TestPropertyCreator(metaclass=PropertyCreator):\n",
    "        \n",
    "        def __init__(self, lo):\n",
    "            self.__x = None\n",
    "            self.lo = lo\n",
    "            \n",
    "            \n",
    "        def get_x(self):\n",
    "            return self.__x\n",
    "\n",
    "        def set_x(self, value):\n",
    "            if value < self.lo:\n",
    "                raise ValueError(\"Value must in condition: {} <= value\".format(self.lo))\n",
    "            self.__x = value\n",
    "\n",
    "        def del_x(self):\n",
    "            self.__x = \"No more\"\n",
    "            \n",
    "    t = TestPropertyCreator(1)\n",
    "    t.x = 5\n",
    "    try:\n",
    "        t.x = 0\n",
    "    except ValueError as e:\n",
    "        print(e)\n",
    "    print(t.x)\n",
    "    \n",
    "    del t.x\n",
    "    \n",
    "test_simple()"
   ]
  },
  {
   "cell_type": "code",
   "execution_count": 43,
   "metadata": {},
   "outputs": [
    {
     "name": "stdout",
     "output_type": "stream",
     "text": [
      "0\n",
      "['set', 'set', 'get']\n"
     ]
    }
   ],
   "source": [
    "def test_with_inheritance():\n",
    "    class TestPropertyCreator(metaclass=PropertyCreator):\n",
    "        pass\n",
    "\n",
    "    class TestPropertyCreatorInheritance(TestPropertyCreator):\n",
    "        def __init__(self):\n",
    "            self._secret_list = []\n",
    "\n",
    "        def get_x(self):\n",
    "            self._secret_list.append(\"get\")\n",
    "            return 0\n",
    "\n",
    "        def set_x(self, value):\n",
    "            self._secret_list.append(\"set\")\n",
    "    \n",
    "    \n",
    "    t = TestPropertyCreatorInheritance()\n",
    "    t.x = 7\n",
    "    try:\n",
    "        t.x = 1\n",
    "    except ValueError as e:\n",
    "        print(e)\n",
    "    print(t.x)\n",
    "    print(t._secret_list)\n",
    "    \n",
    "test_with_inheritance()"
   ]
  },
  {
   "cell_type": "code",
   "execution_count": 44,
   "metadata": {},
   "outputs": [
    {
     "name": "stdout",
     "output_type": "stream",
     "text": [
      "0\n",
      "['set', 'set', 'get']\n"
     ]
    }
   ],
   "source": [
    "def test_partially_defined():\n",
    "    class TestPropertyCreator(metaclass=PropertyCreator):\n",
    "        def __init__(self):\n",
    "            self._secret_list = []\n",
    "\n",
    "        def get_x(self):\n",
    "            self._secret_list.append(\"get\")\n",
    "            return 0\n",
    "\n",
    "        def set_y(self, value):\n",
    "            self._secret_list.append(\"set\")\n",
    "            self._y = value\n",
    "            \n",
    "    t = TestPropertyCreator()\n",
    "    t.y = 1\n",
    "    try:\n",
    "        t.y = 5\n",
    "    except ValueError as e:\n",
    "        print(e)\n",
    "        \n",
    "    print(t.x)\n",
    "    print(t._secret_list)\n",
    "            \n",
    "test_partially_defined()"
   ]
  },
  {
   "cell_type": "code",
   "execution_count": 45,
   "metadata": {},
   "outputs": [
    {
     "name": "stdout",
     "output_type": "stream",
     "text": [
      "1\n",
      "raw_text\n"
     ]
    }
   ],
   "source": [
    "def test_sanity():\n",
    "    class TestPropertyCreator(metaclass=PropertyCreator):\n",
    "        _text = 0\n",
    "        def get_raw_text(self):\n",
    "             return 'raw_text'\n",
    "\n",
    "        def get_text(self):\n",
    "             return self._text % 2\n",
    "\n",
    "        def set_text(self, value):\n",
    "            try:\n",
    "                self._text = int(value)\n",
    "            except ValueError:\n",
    "                raise TypeError(\"unproper value for text: {}\".format(value))\n",
    "    \n",
    "    t = TestPropertyCreator()\n",
    "    t.text = 1\n",
    "    print(t.text)\n",
    "    print(t.raw_text)\n",
    "\n",
    "test_sanity()"
   ]
  },
  {
   "cell_type": "code",
   "execution_count": 46,
   "metadata": {},
   "outputs": [
    {
     "name": "stdout",
     "output_type": "stream",
     "text": [
      "0\n",
      "1\n",
      "6\n"
     ]
    }
   ],
   "source": [
    "def test_multiple_usages():\n",
    "    class TestPropertyCreatorA(metaclass=PropertyCreator):\n",
    "        def get_x(self):\n",
    "            return 0\n",
    "        \n",
    "    class TestPropertyCreatorB(metaclass=PropertyCreator):\n",
    "        def get_x(self):\n",
    "            return 1\n",
    "        \n",
    "    class TestPropertyCreatorC(metaclass=PropertyCreator):\n",
    "        def set_x(self, value):\n",
    "            self.value = value + 1\n",
    "            \n",
    "        def get_x(self):\n",
    "            return self.value\n",
    "\n",
    "    t_A = TestPropertyCreatorA()\n",
    "    t_B = TestPropertyCreatorB()\n",
    "    t_C = TestPropertyCreatorC()\n",
    "    \n",
    "    t_C.x = 5\n",
    "    print(t_A.x)\n",
    "    print(t_B.x)\n",
    "    print(t_C.x)\n",
    "\n",
    "test_multiple_usages()"
   ]
  },
  {
   "cell_type": "markdown",
   "metadata": {},
   "source": [
    "## 2. InstanceCountExeptioner (0.2 балла)\n",
    "Напишите метакласс InstanceCountExeptioner, который будет следить за количеством экземпляров класса, использующих его. Количество задается через поле класса \\_\\_max_instane\\_count\\_\\_. Т. е. число экземпляров каждого класса регулируется отдельно. Если в классе не указано поле \\_\\_max_instane\\_count\\_\\_, то используйте заранее заданное число в метаклассе (любое). Пример:\n",
    "\n",
    "\n",
    "\n",
    "\n",
    "```\n",
    "class TestInstanceCountExeptionerB(metaclass=InstanceCountExeptioner):\n",
    "    \\_\\_max_instane\\_count\\_\\_ = 1\n",
    "    def \\__init\\__(self, a):\n",
    "        self.a = a\n",
    "\n",
    "a_one = TestInstanceCountExeptionerA('one')\n",
    "a_two = TestInstanceCountExeptionerA('two')\n",
    "b_one = TestInstanceCountExeptionerB('one')\n",
    "\\# пока всё шло хорошо\n",
    "\n",
    "\\# а вот\n",
    "a_three = TestInstanceCountExeptionerA('three')\n",
    "\\# выкенет исключение InstanceCountExeption (ваше собственное исключение)\n",
    "```"
   ]
  },
  {
   "cell_type": "markdown",
   "metadata": {},
   "source": [
    "#### Решение"
   ]
  },
  {
   "cell_type": "code",
   "execution_count": 19,
   "metadata": {},
   "outputs": [],
   "source": [
    "# Опишите исключение InstanceCountExeption\n",
    "\n",
    "class InstanceCountExeption(Exception):\n",
    "    \n",
    "    def __init__(self, *args, **kwargs):\n",
    "        Exception.__init__(self, *args, **kwargs)"
   ]
  },
  {
   "cell_type": "code",
   "execution_count": 51,
   "metadata": {},
   "outputs": [],
   "source": [
    "# Опишите мета класс InstanceCountExeptioner\n",
    "from collections import Counter, defaultdict\n",
    "\n",
    "class InstanceCountExeptioner(type):\n",
    "\n",
    "    counter = Counter()\n",
    "    max_instance_counts = defaultdict(int)\n",
    "    \n",
    "    def __new__(cls, name, bases, attrs):\n",
    "        cls.max_instance_counts[name] = attrs.get('__max_instance_count__', 999)\n",
    "        cls.counter[name] = 0\n",
    "        \n",
    "        return super().__new__(cls, name, bases, attrs)\n",
    "    \n",
    "    def __call__(cls, *args, **kwargs):\n",
    "        name = cls.__name__\n",
    "        if cls.counter[name] >= cls.max_instance_counts[name]:\n",
    "            raise InstanceCountExeption(\"reach the limit\")\n",
    "            \n",
    "        cls.counter[name] += 1\n",
    "        return super().__call__(*args, **kwargs)"
   ]
  },
  {
   "cell_type": "markdown",
   "metadata": {},
   "source": [
    "#### Протестируйте свое решение"
   ]
  },
  {
   "cell_type": "code",
   "execution_count": 21,
   "metadata": {},
   "outputs": [],
   "source": [
    "class TestInstanceCountExeptionerA(metaclass=InstanceCountExeptioner):\n",
    "    __max_instance_count__ = 2\n",
    "\n",
    "    def __init__(self):\n",
    "        self.a = 1\n",
    "\n",
    "    def get(self):\n",
    "        return self.a\n",
    "    \n",
    "class TestInstanceCountExeptionerB(metaclass=InstanceCountExeptioner):\n",
    "    __max_instance_count__ = 3\n",
    "\n",
    "    def __init__(self):\n",
    "        self.b = 2\n",
    "\n",
    "    def get(self):\n",
    "        return self.b"
   ]
  },
  {
   "cell_type": "code",
   "execution_count": 22,
   "metadata": {},
   "outputs": [],
   "source": [
    "b_one = TestInstanceCountExeptionerB()\n",
    "b_two = TestInstanceCountExeptionerB()\n",
    "b_three = TestInstanceCountExeptionerB()"
   ]
  },
  {
   "cell_type": "code",
   "execution_count": 23,
   "metadata": {},
   "outputs": [
    {
     "name": "stdout",
     "output_type": "stream",
     "text": [
      "test_create DONE\n",
      "test_fail_create_a DONE\n",
      "test_fail_create_b DONE\n"
     ]
    }
   ],
   "source": [
    "def test_create():\n",
    "    a_one = TestInstanceCountExeptionerA()\n",
    "    b_one = TestInstanceCountExeptionerB()\n",
    "\n",
    "    assert a_one.get() == 1, 'A1 bad'\n",
    "    assert b_one.get() == 1, 'B1 bad'\n",
    "    print(\"test_create DONE\")\n",
    "\n",
    "\n",
    "def test_fail_create_a():\n",
    "    a_one = TestInstanceCountExeptionerA()\n",
    "    a_two = TestInstanceCountExeptionerA()\n",
    "\n",
    "    try:\n",
    "         a_three = TestInstanceCountExeptionerA()\n",
    "    except InstanceCountExeption as e:\n",
    "        print('test_fail_create_a')\n",
    "        \n",
    "    assert a_two.get() == 2, 'A2 bad'\n",
    "\n",
    "\n",
    "def test_fail_create_b():\n",
    "    b_one = TestInstanceCountExeptionerB()\n",
    "    b_two = TestInstanceCountExeptionerB()\n",
    "    b_three = TestInstanceCountExeptionerB()\n",
    "\n",
    "    try:\n",
    "        b_four = TestInstanceCountExeptionerB()\n",
    "    except InstanceCountExeption as e:\n",
    "        print('too many TestInstanceCountExeptionerB object')\n",
    "    \n",
    "    assert b_three.get() == 3, 'B3 bad'\n",
    "\n",
    "    \n",
    "try:\n",
    "     test_create()\n",
    "except InstanceCountExeption as e:\n",
    "    print('test_create DONE')\n",
    "\n",
    "\n",
    "try:\n",
    "     test_create()\n",
    "except InstanceCountExeption as e:\n",
    "    print('test_fail_create_a DONE')\n",
    "\n",
    "try:\n",
    "     test_fail_create_b()\n",
    "except InstanceCountExeption as e:\n",
    "    print('test_fail_create_b DONE')\n"
   ]
  },
  {
   "cell_type": "markdown",
   "metadata": {},
   "source": [
    "## 3. JSONClassCreator (0.6 баллов)\n",
    "Напишите метакласс, который будет по json представлению строить новый класс и обратно. Класс должен уметь следующее:\n",
    "* Поддерживать сохранение и получение магических функций класса.\n",
    "* Поддерживать сохранение и получение обычных функций.\n",
    "* Поддерживать сохранение полей со стандартными типами.\n",
    "* Уберите из сохранения следующие поля и методы: ['\\_\\_dict\\_\\_', '\\_\\_weakref\\_\\_', '\\_\\_module\\_\\_', '\\_\\_init\\_\\_']\n",
    "* У создаваемого класса должна быть функция to_json_str\n",
    "\n",
    "Формат json строки должен быть следующий:\n",
    "\n",
    "<code>\n",
    "{\n",
    "    \"name\": название класса,\n",
    "    \"bases\": базовые классы,\n",
    "    \"methods\": методы класса,\n",
    "    \"attrs\": поля класса\n",
    "}\n",
    "</code>\n",
    "\n",
    "Рекомендации:\n",
    "* Для получения кода функций используйте модуль <a href=\"http://python-lab.ru/documentation/27/stdlib/inspect.html\">inspect</a>.\n",
    "* Для того, чтобы запустить код функций, можно использовать exec.\n",
    "* Можно не исправлять ошибку типа OSError: could not get source code - возникает для функций, полученных с помощью exec."
   ]
  },
  {
   "cell_type": "code",
   "execution_count": null,
   "metadata": {},
   "outputs": [],
   "source": [
    "import json\n",
    "\n",
    "\n",
    "class ParentTest1(object):\n",
    "    pass\n",
    "\n",
    "class ParentTest2(object):\n",
    "    pass\n",
    "\n",
    "class Test(ParentTest1, ParentTest2):\n",
    "    \"\"\"Тестовый класс\"\"\"\n",
    "\n",
    "    val = [1, 2, 3]\n",
    "\n",
    "    def f(self, x):\n",
    "        print(x)\n",
    "    \n",
    "    def __repr__(self):\n",
    "        return \"Test(val={})\".format(self.val)\n",
    "\n",
    "    def __str__(self):\n",
    "        return \"Test(val={})\".format(self.val)\n",
    "\n",
    "    pass"
   ]
  },
  {
   "cell_type": "code",
   "execution_count": null,
   "metadata": {},
   "outputs": [],
   "source": [
    "print(*json.loads(JSONClassCreator.to_json_str(Test)).items(), sep=\"\\n\")"
   ]
  },
  {
   "cell_type": "code",
   "execution_count": null,
   "metadata": {},
   "outputs": [],
   "source": [
    "tmp = JSONClassCreator(JSONClassCreator.to_json_str(Test))"
   ]
  },
  {
   "cell_type": "code",
   "execution_count": null,
   "metadata": {},
   "outputs": [],
   "source": [
    "tmp_obj = tmp()\n",
    "tmp_obj, tmp_obj.f(\"hi\"), tmp.val, tmp.__doc__"
   ]
  },
  {
   "cell_type": "code",
   "execution_count": null,
   "metadata": {},
   "outputs": [],
   "source": [
    "tmp.__dict__"
   ]
  },
  {
   "cell_type": "markdown",
   "metadata": {},
   "source": [
    "#### Решение"
   ]
  },
  {
   "cell_type": "markdown",
   "metadata": {},
   "source": [
    "В методе `__new__` 'распрарсим' json и вызовем super от полученных аргументов.\n",
    "\n",
    "Вызывов `globals()` позволяет перейти в глобальное пространство"
   ]
  },
  {
   "cell_type": "markdown",
   "metadata": {},
   "source": [
    "Реализация `to_json_str`: \n",
    "Для получения атрибутов класса будем использовать метод `inspect.getmembers`, причем с помощью метода\n",
    "`isroutine` мы оставим лишь нужные функции."
   ]
  },
  {
   "cell_type": "code",
   "execution_count": 47,
   "metadata": {},
   "outputs": [],
   "source": [
    "import inspect\n",
    "import json\n",
    "\n",
    "\n",
    "class JSONClassCreator(type):\n",
    "\n",
    "    @staticmethod\n",
    "    def get_global_field(field: str):\n",
    "        return globals()[field]\n",
    "\n",
    "    def __new__(mcls, json_str):\n",
    "        dict_js = json.loads(json_str)\n",
    "\n",
    "        name = dict_js['name']\n",
    "        bases = tuple(JSONClassCreator.get_global_field(base) for base in dict_js['bases'])\n",
    "\n",
    "        for method_source in dict_js['methods'].values():\n",
    "            exec(method_source, globals())\n",
    "\n",
    "        methods = {\n",
    "            method_name: JSONClassCreator.get_global_field(method_name)\n",
    "            for method_name, method_source in dict_js['methods'].items()\n",
    "        }\n",
    "\n",
    "        attrs = dict_js['attrs']\n",
    "        attrs.update(methods)\n",
    "        return super().__new__(mcls, name, bases, attrs)\n",
    "\n",
    "    def to_json_str(cls):\n",
    "        exclude = ['__dict__', '__weakref__', '__module__', '__init__']\n",
    "\n",
    "        class_name = cls.__name__\n",
    "        bases = [base.__name__ for base in cls.__bases__]\n",
    "\n",
    "        attrs = {name: val for name, val in\n",
    "                 cls.__dict__.items()\n",
    "                 if not name in exclude and name is not '__class__' and not inspect.isroutine(val)}\n",
    "\n",
    "        methods = {\n",
    "            method_name: inspect.getsource(method_source).strip()\n",
    "            for method_name, method_source in cls.__dict__.items() if\n",
    "            method_name not in exclude and method_name not in attrs.keys()\n",
    "        }\n",
    "\n",
    "        return json.dumps({\n",
    "            \"name\": class_name,\n",
    "            \"bases\": bases,\n",
    "            \"methods\": methods,\n",
    "            \"attrs\": attrs\n",
    "        })\n"
   ]
  },
  {
   "cell_type": "markdown",
   "metadata": {},
   "source": [
    "#### Проверьте свое решение на примере"
   ]
  },
  {
   "cell_type": "code",
   "execution_count": 48,
   "metadata": {},
   "outputs": [],
   "source": [
    "class ParentTest1(object):\n",
    "    pass\n",
    "\n",
    "class ParentTest2(object):\n",
    "    pass\n",
    "\n",
    "class Test(ParentTest1, ParentTest2):\n",
    "    \"\"\"Тестовый класс\"\"\"\n",
    "\n",
    "    val = [1, 2, 3]\n",
    "\n",
    "    def f(self, x):\n",
    "        print(x)\n",
    "    \n",
    "    def __repr__(self):\n",
    "        return \"Test(val={})\".format(self.val)\n",
    "\n",
    "    def __str__(self):\n",
    "        return \"Test(val={})\".format(self.val)\n",
    "\n",
    "    pass"
   ]
  },
  {
   "cell_type": "code",
   "execution_count": 49,
   "metadata": {},
   "outputs": [
    {
     "name": "stdout",
     "output_type": "stream",
     "text": [
      "('name', 'Test')\n",
      "('bases', ['ParentTest1', 'ParentTest2'])\n",
      "('methods', {'f': 'def f(self, x):\\n        print(x)', '__repr__': 'def __repr__(self):\\n        return \"Test(val={})\".format(self.val)', '__str__': 'def __str__(self):\\n        return \"Test(val={})\".format(self.val)'})\n",
      "('attrs', {'__doc__': 'Тестовый класс', 'val': [1, 2, 3]})\n"
     ]
    }
   ],
   "source": [
    "print(*json.loads(JSONClassCreator.to_json_str(Test)).items(), sep=\"\\n\")"
   ]
  },
  {
   "cell_type": "code",
   "execution_count": 50,
   "metadata": {},
   "outputs": [
    {
     "data": {
      "text/plain": [
       "mappingproxy({'__doc__': 'Тестовый класс',\n",
       "              'val': [1, 2, 3],\n",
       "              'f': <function __main__.f(self, x)>,\n",
       "              '__repr__': <function __main__.__repr__(self)>,\n",
       "              '__str__': <function __main__.__str__(self)>,\n",
       "              '__module__': '__main__'})"
      ]
     },
     "execution_count": 50,
     "metadata": {},
     "output_type": "execute_result"
    }
   ],
   "source": [
    "tmp = JSONClassCreator(JSONClassCreator.to_json_str(Test))\n",
    "tmp.__dict__"
   ]
  },
  {
   "cell_type": "markdown",
   "metadata": {},
   "source": [
    "# Решение где set и get доопределяются\n",
    "\n",
    "НЕ надо смотреть!"
   ]
  },
  {
   "cell_type": "code",
   "execution_count": null,
   "metadata": {},
   "outputs": [],
   "source": [
    "class PropertyCreator2(type):\n",
    "        \n",
    "    def __new__(cls, name, bases, attrs):\n",
    "\n",
    "        methods = {key: value for key, value in attrs.items()\n",
    "                   if callable(value)}\n",
    "\n",
    "        __get_methods = {key[4:]: value for key, value in methods.items()\n",
    "                         if key.startswith('get_')}\n",
    "\n",
    "        __set_methods = {key[4:]: value for key, value in methods.items()\n",
    "                         if key.startswith('set_')}\n",
    "\n",
    "        __s_get_methods = set(__get_methods)\n",
    "        __s_set_methods = set(__set_methods)\n",
    "        __s_g_methods = __s_get_methods.intersection(__s_set_methods)\n",
    "\n",
    "        for key in __s_get_methods:\n",
    "            if key not in __s_g_methods:\n",
    "                setattr(cls, key, property(fget=__get_methods[key]))\n",
    "\n",
    "        for key in __s_set_methods:\n",
    "            if key not in __s_g_methods:\n",
    "                setattr(cls, key, property(fset=__set_methods[key]))\n",
    "\n",
    "        for key in __s_g_methods:\n",
    "            setattr(cls, key, property(fget=__get_methods[key],\n",
    "                                       fset=__set_methods[key]))\n",
    "               \n",
    "        \n",
    "        return super().__new__(cls, name, bases, attrs)  "
   ]
  }
 ],
 "metadata": {
  "kernelspec": {
   "display_name": "Python 3",
   "language": "python",
   "name": "python3"
  },
  "language_info": {
   "codemirror_mode": {
    "name": "ipython",
    "version": 3
   },
   "file_extension": ".py",
   "mimetype": "text/x-python",
   "name": "python",
   "nbconvert_exporter": "python",
   "pygments_lexer": "ipython3",
   "version": "3.7.6"
  }
 },
 "nbformat": 4,
 "nbformat_minor": 2
}
