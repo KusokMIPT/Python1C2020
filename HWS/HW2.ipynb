{
 "cells": [
  {
   "cell_type": "markdown",
   "metadata": {},
   "source": [
    "### Deadline 05.03.2020"
   ]
  },
  {
   "cell_type": "markdown",
   "metadata": {},
   "source": [
    "# Часть 1 - строки\n",
    "## 1. Передача данных (0.5)"
   ]
  },
  {
   "cell_type": "markdown",
   "metadata": {},
   "source": [
    "Для передачи разного рода информации внутри текстовых данных (в частности, с помощью электронной почты), а именно: текст на языках, для которых используются кодировки, отличные от ASCII, и нетекстовые данные, такие, как картинки, музыка, фильмы и программы существуют разные алгоритмы кодирования информации. Вам необходимо реализовать кодирование текстовых последовательностей следующим образом.\n",
    "#### Кодирование (0.2)\n",
    "Возьмем текст русский текст «АБВГД». В двоичной форме в кодировке Windows-1251 мы получим 5 байтов:\n",
    "\n",
    "11000000, 11000001, 11000010, 11000011, 11000100, (00000000) — лишний нулевой байт нужен, чтобы общее число бит делилось на 6.\n",
    "\n",
    "Разделим эти биты на группы по 6:\n",
    "\n",
    "110000, 001100, 000111, 000010, 110000, 111100, 010000, 000000.\n",
    "\n",
    "Берем массив символов\n",
    "\n",
    "«ABCDEFGHIJKLMNOPQRSTUVWXYZabcdefghijklmnopqrstuvwxyz0123456789+/»\n",
    "\n",
    "и получившиеся числа переводим в эти символы, используя их, как  индексы массива, получаем «wMHCw8Q». Остается только добавить в конце один символ \"=\", как указание на один лишний нулевой байт, который мы добавляли на первом шаге и получить окончательный результат:\n",
    "\n",
    "«АБВГД»: base64 = «wMHCw8Q=».\n",
    "\n",
    "В общем случае для того, чтобы преобразовать данные, первый байт\n",
    "помещается в самые старшие восемь бит 24-битного буфера, следующий — в\n",
    "средние восемь и третий — в младшие значащие восемь бит. Если\n",
    "кодируется менее чем три байта, то соответствующие биты буфера\n",
    "устанавливаются в ноль. Далее каждые шесть бит буфера, начиная с самых\n",
    "старших, используются как индексы строки\n",
    "\n",
    "«ABCDEFGHIJKLMNOPQRSTUVWXYZabcdefghijklmnopqrstuvwxyz0123456789+/»\n",
    "\n",
    "и её символы, на которые указывают индексы, помещаются в\n",
    "выходную строку. Если кодируются только один или два байта, в результате\n",
    "получаются только первые два или три символа строки, а выходная строка\n",
    "дополняется двумя или одним символами «=». Это предотвращает\n",
    "добавление дополнительных битов к восстановленным данным. Процесс\n",
    "повторяется над оставшимися входными данными.\n",
    "#### Декодирование (0.2)\n",
    "С декодированием практически также легко. По сути это обратная операция\n",
    "кодированию. Последовательность символов, полученных при конвертации\n",
    "байт, мы разбиваем на ровные группы по 4. Затем каждый символ в\n",
    "соответствии с алфавитом кодирования мы получаем цифровой порядковый\n",
    "индекс (номер), каждое подобное значения мы конвертируем в двоичную\n",
    "систему (6 бит) и получаем 24 бита, которые делим на уже три части и это\n",
    "будут наши первоначальные байты информации. Повторить до конечного результата.\n",
    "#### Протестируйте результат (0.1)\n",
    "Протестируйте реализацию на 5-10 строках из ваших любимых текстов. Сравните результат с библиотекой base64."
   ]
  },
  {
   "cell_type": "code",
   "execution_count": 52,
   "metadata": {},
   "outputs": [],
   "source": [
    "import re\n",
    "\n",
    "TRANSLATING_ARR = f\"ABCDEFGHIJKLMNOPQRSTUVWXYZabcdefghijkl\" \\\n",
    "                  \"mnopqrstuvwxyz0123456789+/\"\n",
    "\n",
    " \n",
    "class Converter1251(object):\n",
    "\n",
    "    @staticmethod\n",
    "    def encode(text):\n",
    "        bits = \"\"\n",
    "        for symb in text:\n",
    "            bits += (bin(int.from_bytes(symb.encode('windows-1251'),\n",
    "                                        'big'))[2:]).zfill(8)\n",
    "        additional_bytes_num = 0\n",
    "        res = \"\"\n",
    "\n",
    "        while (len(bits) + additional_bytes_num * 8) % 6 != 0:\n",
    "            additional_bytes_num += 1\n",
    "\n",
    "        bits += \"0\" * 8 * additional_bytes_num\n",
    "        bits_list = [bits[i:i + 6] for i in range(0, len(bits), 6)]\n",
    "        for letter in bits_list:\n",
    "            res += \"=\" if re.match('^0+$', letter) \\\n",
    "                else TRANSLATING_ARR[int(letter, base=2)]\n",
    "\n",
    "        return res\n",
    "\n",
    "\n",
    "    @staticmethod\n",
    "    def decode(coded_text):\n",
    "        bytes_repr = []\n",
    "\n",
    "        for i in range(0, len(coded_text), 4):\n",
    "            \n",
    "            bits_blocks = \"\".join([\n",
    "                format(Converter1251.__reverse_convert(letter), '06b')\n",
    "                for letter in coded_text[i: i + 4]\n",
    "            ])\n",
    "\n",
    "            bytes_repr.extend(\n",
    "                Converter1251.__convert_buffer_to_letter(bits_blocks.zfill(6)))\n",
    "\n",
    "        bytes_repr = list(filter(lambda x: x > 0, bytes_repr))\n",
    "        return bytes(bytes_repr).decode('windows-1251')\n",
    "\n",
    "    @staticmethod\n",
    "    def __convert_buffer_to_letter(bits_blocks):\n",
    "        \"\"\"принимает 24х битный буффер, возращает 3 символа\"\"\"\n",
    "        letters = []\n",
    "        for j in range(0, len(bits_blocks), 8):\n",
    "            letters.append(int(bits_blocks[j: j + 8], base=2))\n",
    "        return letters\n",
    "\n",
    "    @staticmethod\n",
    "    def __reverse_convert(letter):\n",
    "        return 0 if letter == '=' else TRANSLATING_ARR.index(letter)"
   ]
  },
  {
   "cell_type": "markdown",
   "metadata": {},
   "source": [
    "## Немного тестов"
   ]
  },
  {
   "cell_type": "code",
   "execution_count": 53,
   "metadata": {},
   "outputs": [
    {
     "name": "stdout",
     "output_type": "stream",
     "text": [
      "True\n",
      "True\n",
      "True\n",
      "True\n",
      "True\n"
     ]
    }
   ],
   "source": [
    "import numpy as np\n",
    "\n",
    "def test(test_str):\n",
    "    return Converter1251.decode(Converter1251.encode(test_str)) == test_str\n",
    "\n",
    "tests_texts = {\n",
    "    'small_ex1': 'qasdf',\n",
    "    'small_ex2': 'тесapsdkfт',\n",
    "    'small_ex3': '-91unkafhip3anp',\n",
    "    'norm_ex_1': 'Любовь Андреевна прожила за границей пять лет, не знаю, какая она теперь стала... Хороший она человек. Легкий, простой человек. Помню, когда я был мальчонком лет пятнадцати, отец мой покойный — он тогда здесь на деревне в лавке торговал — ударил меня по лицу кулаком, кровь пошла из носу... Мы тогда вместе пришли зачем-то во двор, и он выпивши был. Любовь Андреевна, ',\n",
    "    'na': \"Дебютная постановка на моссоветовской сцене ведущего актера труппы Александра Яцко, имеющего за плечами режиссерский опыт. Спектакль дает «свежий» взгляд на знакомое со школьной скамьи произведение, оставаясь при этом верным духу великой комедии. Александр Яцко убежден, что «Горе от ума» – лучшая пьеса из когда-либо написанных на русском языке. Хрестоматийных героев он сделал живыми современными людьми, чьи мысли и поступки близки и понятны сидящим в зале. Камерная атмосфера сцены «Под крышей» позволяет подробно и по-новому всмотреться в лица грибоедовских персонажей, понять логику и мотивы их поведения, а стильная лапидарная сценография, автором которой выступил сам постановщик спектакля, придает действию комедии изысканную красоту. Александр Яцко не сделал ни одн\"\n",
    "}\n",
    "\n",
    "for text in tests_texts:\n",
    "    print(test(tests_texts[text]))"
   ]
  },
  {
   "cell_type": "markdown",
   "metadata": {},
   "source": [
    "### base64\n",
    "Сравним с соответсвующими методами библиотеки `base64` :\n",
    "base64.b64encode"
   ]
  },
  {
   "cell_type": "code",
   "execution_count": 54,
   "metadata": {},
   "outputs": [
    {
     "name": "stdout",
     "output_type": "stream",
     "text": [
      "base64:  b'cWFzZGY='\n",
      "Converter1251:  cWFzZGY=\n",
      "\n",
      "base64:  b'8uXxYXBzZGtm8g=='\n",
      "Converter1251:  8uXxYXBzZGtm8g==\n",
      "\n",
      "base64:  b'LTkxdW5rYWZoaXAzYW5w'\n",
      "Converter1251:  LTkxdW5rYWZoaX=zYW5w\n",
      "\n",
      "base64:  b'y/7h7uL8IMDt5PDl5eLt4CDv8O7m6OvgIOfgIOPw4O3o9uXpIO//8vwg6+XyLCDt5SDn7eD+LCDq4Org/yDu7eAg8uXv5fD8IPHy4OvgLi4uINXu8O746Okg7u3gIPfl6+7i5eouIMvl4+ro6Swg7/Du8fLu6SD35evu4uXqLiDP7uzt/iwg6u7j5OAg/yDh++sg7ODr/Pfu7eru7CDr5fIg7//y7eDk9uDy6Cwg7vLl9iDs7ukg7+7q7unt++kglyDu7SDy7uPk4CDn5OXx/CDt4CDk5fDl4u3lIOIg6+Di6uUg8u7w4+7i4OsglyDz5ODw6Osg7OXt/yDv7iDr6PbzIOrz6+Dq7uwsIOrw7uL8IO/u+OvgIOjnIO3u8fMuLi4gzPsg8u7j5OAg4uzl8fLlIO/w6Pjr6CDn4Pfl7C3y7iDi7iDk4u7wLCDoIO7tIOL77+ji+Ogg4fvrLiDL/uHu4vwgwO3k8OXl4u3gLCA='\n",
      "Converter1251:  y/7h7uL8IMDt5PDl5eLt4CDv8O7m6OvgIOfgIOPw4O3o9uXpIO//8vwg6+XyLCDt5SDn7eD+LCDq4Org/yDu7e=g8uXv5fD8IPHy4OvgLi4uINXu8O746Okg7u3gIPfl6+7i5eouIMvl4+ro6Swg7/Du8fLu6SD35evu4uXqLiDP7uzt/iwg6u7j5O=g/yDh++sg7ODr/Pfu7eru7CDr5fIg7//y7eDk9uDy6Cwg7vLl9iDs7ukg7+7q7unt++kglyDu7SDy7uPk4CDn5OXx/CDt4CDk5fDl4u3lIOIg6+Di6uUg8u7w4+7i4OsglyDz5ODw6Osg7OXt/yDv7iDr6PbzIOrz6+Dq7uwsIOrw7uL8IO/u+OvgIOjnIO3u8fMuLi4gzPsg8u7j5O=g4uzl8fLlIO/w6Pjr6CDn4Pfl7C3y7iDi7iDk4u7wLCDoIO7tIOL77+ji+Ogg4fvrLiDL/uHu4vwgwO3k8OXl4u3gLC==\n",
      "\n",
      "base64:  b'xOXh/vLt4P8g7+7x8uDt7uLq4CDt4CDs7vHx7uLl8u7i8eru6SDx9uXt5SDi5eTz+eXj7iDg6vLl8OAg8vDz7+/7IMDr5erx4O3k8OAg3/bq7iwg6Ozl/vnl4+4g5+Ag7+vl9+Ds6CDw5ebo8fHl8PHq6Okg7u/78i4g0e/l6vLg6uv8IOTg5fIgq/Hi5ebo6bsg4ufj6//kIO3gIOft4Oru7O7lIPHuIPjq7uv87e7pIPHq4Oz86CDv8O7o5+Ll5OXt6OUsIO7x8uDi4P/x/CDv8Ogg/fLu7CDi5fDt++wg5PP18yDi5evo6u7pIOru7OXk6OguIMDr5erx4O3k8CDf9uruIPPh5ebk5e0sIPfy7iCrw+7w5SDu8iDz7OC7IJYg6/P3+OD/IO/85fHgIOjnIOru4+TgLevo4e4g7eDv6PHg7e379SDt4CDw8/Hx6u7sIP/n++rlLiDV8OXx8u7s4PLo6e379SDj5fDu5eIg7u0g8eTl6+DrIObo4vvs6CDx7uLw5ezl7e377Ogg6/7k/OzoLCD3/Ogg7Pvx6+gg6CDv7vHy8+/q6CDh6+jn6ugg6CDv7u3/8u37IPHo5P/56Owg4iDn4OvlLiDK4Ozl8O3g/yDg8uzu8fTl8OAg8fbl7fsgq8/u5CDq8Pv45em7IO/u5+Lu6//l8iDv7uTw7uHt7iDoIO/uLe3u4u7s8yDi8ezu8vDl8vzx/yDiIOvo9uAg4/Do4e7l5O7i8ero9SDv5fDx7u3g5uXpLCDv7u3/8vwg6+7j6OrzIOgg7O7y6OL7IOj1IO/u4uXk5e3o/ywg4CDx8ujr/O3g/yDr4O/o5ODw7eD/IPH25e3u4/Dg9Oj/LCDg4vLu8O7sIOru8u7w7ukg4vvx8vPv6Osg8eDsIO/u8fLg7e7i+ejqIPHv5ery4Orr/ywg7/Do5ODl8iDk5enx8uLo/iDq7uzl5OjoIOjn+/Hq4O3t8/4g6vDg8e7y8y4gwOvl6vHg7eTwIN/26u4g7eUg8eTl6+DrIO3oIO7k7Q=='\n",
      "Converter1251:  xOXh/vLt4P8g7+7x8uDt7uLq4CDt4CDs7vHx7uLl8u7i8eru6SDx9uXt5SDi5eTz+eXj7iDg6vLl8O=g8vDz7+/7IMDr5erx4O3k8O=g3/bq7iwg6Ozl/vnl4+4g5+=g7+vl9+Ds6CDw5ebo8fHl8PHq6Okg7u/78i4g0e/l6vLg6uv8IOTg5fIgq/Hi5ebo6bsg4ufj6//kIO3gIOft4Oru7O7lIPHuIPjq7uv87e7pIPHq4Oz86CDv8O7o5+Ll5OXt6OUsIO7x8uDi4P/x/CDv8Ogg/fLu7CDi5fDt++wg5PP18yDi5evo6u7pIOru7OXk6OguIMDr5erx4O3k8CDf9uruIPPh5ebk5e0sIPfy7iCrw+7w5SDu8iDz7OC7IJYg6/P3+OD/IO/85fHgIOjnIOru4+TgLevo4e4g7eDv6PHg7e379SDt4CDw8/Hx6u7sIP/n++rlLiDV8OXx8u7s4PLo6e379SDj5fDu5eIg7u0g8eTl6+DrIObo4vvs6CDx7uLw5ezl7e377Ogg6/7k/OzoLCD3/Ogg7Pvx6+gg6CDv7vHy8+/q6CDh6+jn6ugg6CDv7u3/8u37IPHo5P/56Owg4iDn4OvlLiDK4Ozl8O3g/yDg8uzu8fTl8O=g8fbl7fsgq8/u5CDq8Pv45em7IO/u5+Lu6//l8iDv7uTw7uHt7iDoIO/uLe3u4u7s8yDi8ezu8vDl8vzx/yDiIOvo9u=g4/Do4e7l5O7i8ero9SDv5fDx7u3g5uXpLCDv7u3/8vwg6+7j6OrzIOgg7O7y6OL7IOj1IO/u4uXk5e3o/ywg4CDx8ujr/O3g/yDr4O/o5ODw7eD/IPH25e3u4/Dg9Oj/LCDg4vLu8O7sIOru8u7w7ukg4vvx8vPv6Osg8eDsIO/u8fLg7e7i+ejqIPHv5ery4Orr/ywg7/Do5ODl8iDk5enx8uLo/iDq7uzl5OjoIOjn+/Hq4O3t8/4g6vDg8e7y8y4gwOvl6vHg7eTwIN/26u4g7eUg8eTl6+DrIO3oIO7k7Q==\n",
      "\n"
     ]
    }
   ],
   "source": [
    "import base64\n",
    "\n",
    "# ToDO: какая-то бага на русских текстах\n",
    "\n",
    "for text in tests_texts:\n",
    "    s1,s2 = base64.b64encode(tests_texts[text].encode('windows-1251')), Converter1251.encode(tests_texts[text])\n",
    "    print('base64: ', base64.b64encode(tests_texts[text].encode('windows-1251')))\n",
    "    print('Converter1251: ', Converter1251.encode(tests_texts[text]))\n",
    "    print()"
   ]
  },
  {
   "cell_type": "markdown",
   "metadata": {},
   "source": [
    "# Часть 2 - ООП 1"
   ]
  },
  {
   "cell_type": "markdown",
   "metadata": {},
   "source": [
    "## 2. CounterGetter (0.1 балл)\n",
    "Реализуйте класс CounterGetter, который на вход принимает произвольное количество именованых аргументов и считает количество обращений к полям и методам класса во всех экземплярах."
   ]
  },
  {
   "cell_type": "markdown",
   "metadata": {},
   "source": [
    "## Решение\n",
    "\n",
    "Чтобы посчитать колиечство обращений к полям и методом переопределим методы отвечающие за контроль доступа к атрибутам:\n",
    "\n",
    "- `__getattr__(self, name)`\n",
    "- `__setattr__(self, name)`\n",
    "- `__delattr__`\n",
    "- `__getattribute__`\n",
    "- `__call__`\n",
    "\n",
    "А так же метод `__repr__` для того, чтобы с помощью print(counter_getter_object) возращать соответствующий счетчик\n",
    "\n",
    "Дискрипторы: \n",
    "- https://habr.com/ru/post/122082/"
   ]
  },
  {
   "cell_type": "markdown",
   "metadata": {},
   "source": [
    "причем в нашем случае достаточно определить лишь `__getattribute__` и `__setattr__`"
   ]
  },
  {
   "cell_type": "code",
   "execution_count": 55,
   "metadata": {},
   "outputs": [],
   "source": [
    "import collections\n",
    "\n",
    "class CounterGetter(object):\n",
    "    counter = collections.defaultdict(int)\n",
    "\n",
    "    def __init__(self, **kwargs):\n",
    "        self.__dict__.update(kwargs)\n",
    "        for attr in kwargs:\n",
    "            if attr not in CounterGetter.counter:\n",
    "                 CounterGetter.counter[attr] += 1\n",
    "        \n",
    "        \n",
    "    def __getattribute__(self, attr):\n",
    "        CounterGetter.counter[attr] += 1\n",
    "        return super(CounterGetter, self).__getattribute__(attr)\n",
    "    \n",
    "    def __setattr__(self, name, value):\n",
    "        CounterGetter.counter[name] += 1\n",
    "        self.__dict__[name] = value\n",
    "        return super(CounterGetter, self).__setattr__(name, value)\n",
    "\n",
    "    def __getitem__(self, attr):\n",
    "        return CounterGetter.counter[attr]\n",
    "    \n",
    "    def __delattr__(self, attr):\n",
    "        del counter[attr]\n",
    "        return super(CounterGetter, self).__delattr__(name, value)\n",
    "    \n",
    "    def __repr__(self):\n",
    "        return str(dict(self.counter))"
   ]
  },
  {
   "cell_type": "markdown",
   "metadata": {},
   "source": [
    "## Немного тестов"
   ]
  },
  {
   "cell_type": "code",
   "execution_count": 56,
   "metadata": {},
   "outputs": [
    {
     "name": "stdout",
     "output_type": "stream",
     "text": [
      "{'__dict__': 1, 'arg0': 1, 'arg1': 1, 'arg2': 1, 'arg3': 1, 'arg4': 1, 'counter': 1}\n",
      "{'__dict__': 2, 'arg0': 2, 'arg1': 1, 'arg2': 1, 'arg3': 1, 'arg4': 1, 'counter': 2}\n",
      "{'__dict__': 6, 'arg0': 2, 'arg1': 1, 'arg2': 1, 'arg3': 1, 'arg4': 1, 'counter': 3} {'__dict__': 6, 'arg0': 2, 'arg1': 1, 'arg2': 1, 'arg3': 1, 'arg4': 1, 'counter': 4} {'__dict__': 6, 'arg0': 2, 'arg1': 1, 'arg2': 1, 'arg3': 1, 'arg4': 1, 'counter': 5}\n",
      "{'__dict__': 6, 'arg0': 2, 'arg1': 1, 'arg2': 1, 'arg3': 1, 'arg4': 1, 'counter': 6}\n",
      "{'__dict__': 6, 'arg0': 2, 'arg1': 1, 'arg2': 1, 'arg3': 1, 'arg4': 1, 'counter': 7}\n"
     ]
    }
   ],
   "source": [
    "test_1 = CounterGetter(\n",
    "    arg0=2,\n",
    "    arg1=15,\n",
    "    arg2=\"test\",\n",
    "    arg3= True,\n",
    "    arg4= [1,2,3]\n",
    ")\n",
    "print(test_1)\n",
    "test_1.arg0 = 3\n",
    "\n",
    "print(test_1)\n",
    "\n",
    "test_2 = CounterGetter(arg0 = \"test\")\n",
    "test_3 = CounterGetter(arg0 = \"test\")\n",
    "\n",
    "test_4 = CounterGetter(\n",
    "    arg0 = test_1, \n",
    "    arg1 = test_2, \n",
    "    arg2 = test_3\n",
    ")\n",
    "\n",
    "test_5 = CounterGetter(arg0 = 'new')\n",
    "\n",
    "print(test_1, test_2,test_3)\n",
    "\n",
    "print(test_4)\n",
    "print(test_5)"
   ]
  },
  {
   "cell_type": "markdown",
   "metadata": {},
   "source": [
    "## 3. Vector (0.4 балла)\n",
    "Реализуйте класс вектор, который должен обладать следующими свойствами:\n",
    "\n",
    "Над экземплярами выполняются арифметические операции (+-*/). Операции могут выполняться как с числами, так и с векторами. Если второй операнд вектор, то верните их скалярное произведение, если число, выполните поэлементное действие.\n",
    "Реализуйте доступ к элементам вектора по индексам:\n",
    "\n",
    "vec = Vector(1, 2, 3)\n",
    "\n",
    "vec[0]\n",
    "\n",
    "Реализуйте умножение вектора на матрицу (Матрица задается двумерным списком).\n",
    "Поддерживайте методы push_back, pop_back, insert.\n",
    "Реализуйте поддержку функции len"
   ]
  },
  {
   "attachments": {
    "image.png": {
     "image/png": "[encoded data removed]"
    }
   },
   "cell_type": "markdown",
   "metadata": {},
   "source": [
    "Будем наследоваться от `list` чтобы не писать `append`, `resize` и прочее самим. Реализуем арифметические операции \n",
    "![image.png](attachment:image.png)"
   ]
  },
  {
   "cell_type": "code",
   "execution_count": 57,
   "metadata": {},
   "outputs": [],
   "source": [
    "import math\n",
    "\n",
    "\n",
    "class Vector(list):\n",
    "    \n",
    "    def __init__(self, *args):\n",
    "        super(Vector, self).__init__(*args)\n",
    "        \n",
    "    def __iadd__(self, other):\n",
    "        self = self + other \n",
    "        return self\n",
    "        \n",
    "    def __add__(self, other):\n",
    "        if isinstance(other, (int, float, complex)):\n",
    "            return Vector([self[i] + other for i in range(len(self))])\n",
    "        elif len(self) != len(other):\n",
    "            raise Exceptin(\"Size's does not match\")\n",
    "        try: \n",
    "            other = Vector(other)\n",
    "        except ValueError:\n",
    "            print(\"Can't cast to vector\")\n",
    "        return Vector([x + y for x, y in zip(self, other)])\n",
    "    \n",
    "    def __sub__(self, other):\n",
    "        return self + -other\n",
    "    \n",
    "    def __isub__(self, other):\n",
    "        self.__iadd__(-other)\n",
    "        return self\n",
    "    \n",
    "    def __mul__(self, other):\n",
    "        if isinstance(other, (int, float, complex)):\n",
    "            return Vector([self[i] * other for i in range(len(self))])\n",
    "        elif len(self) != len(other):\n",
    "            raise Exceptin(\"Size's does not match\")\n",
    "        \n",
    "        try: \n",
    "            other = Vector(other)\n",
    "        except ValueError:\n",
    "            print(\"Can't cast to vector\")\n",
    "                \n",
    "        return sum([x * y for x, y in zip(self, other)])\n",
    "    \n",
    "    def __imul__(self, other):\n",
    "        self = self * other\n",
    "        return self\n",
    "    \n",
    "    def __truediv__(self, other):\n",
    "        '''правильное деление'''\n",
    "        if isinstance(other, (int, float, complex)):\n",
    "            return Vector([self[i] / other for i in range(len(self))])\n",
    "        elif len(self) != len(other):\n",
    "            raise Exceptin(\"Size's does not match\")\n",
    "        \n",
    "        try: \n",
    "            other = Vector(other)\n",
    "        except ValueError:\n",
    "            print(\"Can't cast to vector\")\n",
    "                \n",
    "        return Vector([x / y for x, y in zip(self, other)])\n",
    "    \n",
    "    def __itruediv__(self, other):\n",
    "        self = self * other\n",
    "        return self\n",
    "    \n",
    "    def __neg__(self):\n",
    "        return self * (-1)\n",
    "    \n",
    "    def push_back(self, item):\n",
    "        self.append(item)\n",
    "\n",
    "    def pop_back(self):\n",
    "        self.pop()\n",
    "        \n",
    "    def len(self):\n",
    "        return len(self)\n",
    "    \n",
    "    @staticmethod\n",
    "    def __transpose_matrix(matrix):\n",
    "        \"\"\"транспонирует матрицу заданную думерным списком\"\"\"\n",
    "        return (list(map(list, zip(*matrix))))\n",
    "    \n",
    "    def matrix_multi(self, matrix): \n",
    "        if len(self) != len(matrix):\n",
    "            raise VectorException(\"Unsuitable sizes of operands.\")\n",
    "        else:\n",
    "            return Vector((self * columns for columns in self.__transpose_matrix(matrix)))"
   ]
  },
  {
   "cell_type": "markdown",
   "metadata": {},
   "source": [
    "## Немного тестов: "
   ]
  },
  {
   "cell_type": "code",
   "execution_count": 58,
   "metadata": {},
   "outputs": [],
   "source": [
    "import pandas as pd\n",
    "\n",
    "test_v = Vector([1,1,1,1,1])\n",
    "test_v_2 = pd.Series([1, 1, 1, 1, 1])"
   ]
  },
  {
   "cell_type": "code",
   "execution_count": 59,
   "metadata": {},
   "outputs": [
    {
     "data": {
      "text/plain": [
       "[2, 2, 2, 2, 2]"
      ]
     },
     "execution_count": 59,
     "metadata": {},
     "output_type": "execute_result"
    }
   ],
   "source": [
    "test_v += test_v_2\n",
    "test_v"
   ]
  },
  {
   "cell_type": "code",
   "execution_count": 60,
   "metadata": {},
   "outputs": [
    {
     "name": "stdout",
     "output_type": "stream",
     "text": [
      "10\n"
     ]
    }
   ],
   "source": [
    "test_v*=test_v_2\n",
    "print(test_v)"
   ]
  },
  {
   "cell_type": "code",
   "execution_count": 61,
   "metadata": {},
   "outputs": [
    {
     "data": {
      "text/plain": [
       "-5"
      ]
     },
     "execution_count": 61,
     "metadata": {},
     "output_type": "execute_result"
    }
   ],
   "source": [
    "-Vector([1,1,1,1,1]).len()"
   ]
  },
  {
   "cell_type": "code",
   "execution_count": 62,
   "metadata": {},
   "outputs": [
    {
     "data": {
      "text/plain": [
       "[0, 5, 10, 15, 20]"
      ]
     },
     "execution_count": 62,
     "metadata": {},
     "output_type": "execute_result"
    }
   ],
   "source": [
    "matrix = [[i for i in range(5)] for j in range(5)]\n",
    "Vector([1,1,1,1,1]).matrix_multi(matrix)"
   ]
  },
  {
   "cell_type": "code",
   "execution_count": 63,
   "metadata": {},
   "outputs": [
    {
     "data": {
      "text/plain": [
       "array([ 0,  5, 10, 15, 20])"
      ]
     },
     "execution_count": 63,
     "metadata": {},
     "output_type": "execute_result"
    }
   ],
   "source": [
    "import numpy as np\n",
    "\n",
    "np.array([1,1,1,1,1]) @ np.array(matrix)"
   ]
  },
  {
   "cell_type": "code",
   "execution_count": 64,
   "metadata": {},
   "outputs": [
    {
     "data": {
      "text/plain": [
       "[[0, 1, 2, 3, 4],\n",
       " [0, 1, 2, 3, 4],\n",
       " [0, 1, 2, 3, 4],\n",
       " [0, 1, 2, 3, 4],\n",
       " [0, 1, 2, 3, 4]]"
      ]
     },
     "execution_count": 64,
     "metadata": {},
     "output_type": "execute_result"
    }
   ],
   "source": [
    "matrix"
   ]
  }
 ],
 "metadata": {
  "kernelspec": {
   "display_name": "Python 3",
   "language": "python",
   "name": "python3"
  },
  "language_info": {
   "codemirror_mode": {
    "name": "ipython",
    "version": 3
   },
   "file_extension": ".py",
   "mimetype": "text/x-python",
   "name": "python",
   "nbconvert_exporter": "python",
   "pygments_lexer": "ipython3",
   "version": "3.7.6"
  }
 },
 "nbformat": 4,
 "nbformat_minor": 2
}
