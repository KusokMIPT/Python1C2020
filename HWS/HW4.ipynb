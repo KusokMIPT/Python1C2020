{
 "cells": [
  {
   "cell_type": "markdown",
   "metadata": {},
   "source": [
    "# Задание 4"
   ]
  },
  {
   "cell_type": "markdown",
   "metadata": {},
   "source": [
    "## 1. Chainer (0.4 балла)\n",
    "\n",
    "Требуется реализовать функцию chainer, которая принимает на вход любое количество итерируемых объектов (в т.ч. контейнеров, которые тоже могут содержать итерируемые объекты) и возвращает список из всех элементов всех переданных контейнеров."
   ]
  },
  {
   "cell_type": "markdown",
   "metadata": {},
   "source": [
    "## Вариант с for:"
   ]
  },
  {
   "cell_type": "code",
   "execution_count": 114,
   "metadata": {},
   "outputs": [],
   "source": [
    "def check_is_one_str_symb(str_element: str) -> bool:\n",
    "    return len(str_element) > 1 or not isinstance(str_element, str)\n",
    "\n",
    "def chainer_for(*args):\n",
    "    res = []\n",
    "\n",
    "    def inner_itter(el):\n",
    "        nonlocal res\n",
    "\n",
    "        if hasattr(el, '__iter__') and len(el) > 0 and \\\n",
    "                check_is_one_str_symb(el):\n",
    "            for i in el:\n",
    "                inner_itter(i)\n",
    "        else:\n",
    "            res.append(el)\n",
    "\n",
    "    inner_itter(args)\n",
    "    return res"
   ]
  },
  {
   "cell_type": "markdown",
   "metadata": {},
   "source": [
    "## Без for:"
   ]
  },
  {
   "cell_type": "code",
   "execution_count": 115,
   "metadata": {},
   "outputs": [],
   "source": [
    "def check_is_one_str_symb(str_element: str) -> bool:\n",
    "    return len(str_element) > 1 or not isinstance(str_element, str)\n",
    "\n",
    "\n",
    "def chainer(*args):\n",
    "    res = []\n",
    "\n",
    "    def _iter(item_):\n",
    "        nonlocal res\n",
    "\n",
    "        def _inner_iter(inner_item_):\n",
    "            if hasattr(inner_item_, '__iter__') and len(inner_item_) > 0 \\\n",
    "                    and check_is_one_str_symb(inner_item_):\n",
    "                _iter(inner_item_)\n",
    "            else:\n",
    "                res.append(inner_item_)\n",
    "\n",
    "        list(map(_inner_iter, item_))\n",
    "\n",
    "    list(map(_iter, args))\n",
    "    return res"
   ]
  },
  {
   "cell_type": "markdown",
   "metadata": {},
   "source": [
    "Пример работы функции:"
   ]
  },
  {
   "cell_type": "code",
   "execution_count": 116,
   "metadata": {},
   "outputs": [
    {
     "name": "stdout",
     "output_type": "stream",
     "text": [
      "[1, 2, 3, 'w', 'h', 'y', 'i', ' ', 'n', 'e', 'e', 'd', 'd', 'o', ' ', 't', 'h', 'a', 't', '?']\n"
     ]
    }
   ],
   "source": [
    "print(chainer([1, 2, 3], \"why\", [\"i need\", [\"do that\", [\"?\"]]]))"
   ]
  },
  {
   "cell_type": "markdown",
   "metadata": {},
   "source": [
    "При этом запрещается использовать в коде конструкции циклов while и for."
   ]
  },
  {
   "cell_type": "markdown",
   "metadata": {},
   "source": [
    "## 2. Dataflow (0.6 балла)\n",
    "\n",
    "В данном задании требуется написать обработчик генераторов, вычисляющих факториал. Для каждого генератора должна быть функция декоратор, которая инициализирует генератор."
   ]
  },
  {
   "cell_type": "code",
   "execution_count": 89,
   "metadata": {},
   "outputs": [],
   "source": [
    "from functools import wraps,reduce\n",
    "\n",
    "def coroutine(func):\n",
    "    \n",
    "    @wraps(func)\n",
    "    def wrapper(*args, **kwargs):\n",
    "        generator = func(*args, **kwargs)\n",
    "        return generator\n",
    "    \n",
    "    return wrapper"
   ]
  },
  {
   "cell_type": "markdown",
   "metadata": {},
   "source": [
    "Функция генератор факториалов принимает на вход n - максимальный факториал, который может вычислить ($n!$)."
   ]
  },
  {
   "cell_type": "code",
   "execution_count": 90,
   "metadata": {},
   "outputs": [],
   "source": [
    "@coroutine\n",
    "def fact_generator(n):\n",
    "    factor = 1\n",
    "    res = 1\n",
    "\n",
    "    while factor <= n:\n",
    "        upper_limit = yield res \n",
    "        if upper_limit is not None and upper_limit > factor:\n",
    "            res *= reduce(lambda a, b: a * b, range(factor + 1, upper_limit + 1))     \n",
    "            factor = upper_limit\n",
    "        elif upper_limit is not None:\n",
    "            raise StopIteration(\"Attempt to rollback generator state.\")\n",
    "        else:\n",
    "            factor += 1\n",
    "            res *= factor"
   ]
  },
  {
   "cell_type": "code",
   "execution_count": 92,
   "metadata": {},
   "outputs": [
    {
     "name": "stdout",
     "output_type": "stream",
     "text": [
      "1\n",
      "2\n",
      "6\n",
      "24\n",
      "120\n",
      "720\n",
      "5040\n",
      "40320\n",
      "362880\n",
      "3628800\n"
     ]
    },
    {
     "ename": "StopIteration",
     "evalue": "",
     "output_type": "error",
     "traceback": [
      "\u001b[0;31m---------------------------------------------------------------------------\u001b[0m",
      "\u001b[0;31mStopIteration\u001b[0m                             Traceback (most recent call last)",
      "\u001b[0;32m<ipython-input-92-8c6ccc97692a>\u001b[0m in \u001b[0;36m<module>\u001b[0;34m\u001b[0m\n\u001b[1;32m      1\u001b[0m \u001b[0mf10\u001b[0m \u001b[0;34m=\u001b[0m \u001b[0mfact_generator\u001b[0m\u001b[0;34m(\u001b[0m\u001b[0;36m10\u001b[0m\u001b[0;34m)\u001b[0m\u001b[0;34m\u001b[0m\u001b[0;34m\u001b[0m\u001b[0m\n\u001b[1;32m      2\u001b[0m \u001b[0;32mwhile\u001b[0m \u001b[0;32mTrue\u001b[0m\u001b[0;34m:\u001b[0m\u001b[0;34m\u001b[0m\u001b[0;34m\u001b[0m\u001b[0m\n\u001b[0;32m----> 3\u001b[0;31m     \u001b[0mprint\u001b[0m\u001b[0;34m(\u001b[0m\u001b[0mnext\u001b[0m\u001b[0;34m(\u001b[0m\u001b[0mf10\u001b[0m\u001b[0;34m)\u001b[0m\u001b[0;34m)\u001b[0m\u001b[0;34m\u001b[0m\u001b[0;34m\u001b[0m\u001b[0m\n\u001b[0m",
      "\u001b[0;31mStopIteration\u001b[0m: "
     ]
    }
   ],
   "source": [
    "f10 = fact_generator(10)\n",
    "while True:\n",
    "    print(next(f10))"
   ]
  },
  {
   "cell_type": "code",
   "execution_count": 75,
   "metadata": {},
   "outputs": [
    {
     "name": "stdout",
     "output_type": "stream",
     "text": [
      "1\n",
      "2\n",
      "6\n",
      "generator raised StopIteration\n"
     ]
    },
    {
     "ename": "StopIteration",
     "evalue": "",
     "output_type": "error",
     "traceback": [
      "\u001b[0;31m---------------------------------------------------------------------------\u001b[0m",
      "\u001b[0;31mStopIteration\u001b[0m                             Traceback (most recent call last)",
      "\u001b[0;32m<ipython-input-75-900a87d16cde>\u001b[0m in \u001b[0;36m<module>\u001b[0;34m\u001b[0m\n\u001b[1;32m      2\u001b[0m \u001b[0;34m\u001b[0m\u001b[0m\n\u001b[1;32m      3\u001b[0m \u001b[0;32mfor\u001b[0m \u001b[0mi\u001b[0m \u001b[0;32min\u001b[0m \u001b[0mrange\u001b[0m\u001b[0;34m(\u001b[0m\u001b[0;36m7\u001b[0m\u001b[0;34m)\u001b[0m\u001b[0;34m:\u001b[0m\u001b[0;34m\u001b[0m\u001b[0;34m\u001b[0m\u001b[0m\n\u001b[0;32m----> 4\u001b[0;31m     \u001b[0mprint\u001b[0m\u001b[0;34m(\u001b[0m\u001b[0mnext\u001b[0m\u001b[0;34m(\u001b[0m\u001b[0mf7\u001b[0m\u001b[0;34m)\u001b[0m\u001b[0;34m)\u001b[0m\u001b[0;34m\u001b[0m\u001b[0;34m\u001b[0m\u001b[0m\n\u001b[0m\u001b[1;32m      5\u001b[0m \u001b[0;34m\u001b[0m\u001b[0m\n\u001b[1;32m      6\u001b[0m     \u001b[0;32mif\u001b[0m \u001b[0mi\u001b[0m \u001b[0;34m==\u001b[0m \u001b[0;36m2\u001b[0m\u001b[0;34m:\u001b[0m\u001b[0;34m\u001b[0m\u001b[0;34m\u001b[0m\u001b[0m\n",
      "\u001b[0;31mStopIteration\u001b[0m: "
     ]
    }
   ],
   "source": [
    "f7 = fact_generator(7)\n",
    "\n",
    "for i in range(7):\n",
    "    print(next(f7))\n",
    "\n",
    "    if i == 2:\n",
    "        try:\n",
    "            print(f7.send(2))\n",
    "        except Exception as e:\n",
    "            print(f\"{e}\")"
   ]
  },
  {
   "cell_type": "markdown",
   "metadata": {},
   "source": [
    "Пример:\n",
    "\n",
    "f10 = fact_generator(10)\n",
    "\n",
    "создает генератор, который при каждом вызове next(f10) возвращает текущее значение факториала, т. е.\n",
    "\n",
    "next(f10) # вернет 1\n",
    "\n",
    "next(f10) # вернет 2\n",
    "\n",
    "next(f10) # вернет 6\n",
    "\n",
    "...\n"
   ]
  },
  {
   "cell_type": "markdown",
   "metadata": {},
   "source": [
    "При этом должен быть реализован функционал, который позволяет послать значение z в генератор и должно вернуться соответствующее значение факториала последовательным применением функции next. Если это невозможно (генератор исчерпался), должно быть выведено сообщение об этом и последнее возможное значение факториала.\n",
    "\n",
    "Данный функционал должен быть реализован в классе GeneratorManeger:"
   ]
  },
  {
   "cell_type": "code",
   "execution_count": 139,
   "metadata": {},
   "outputs": [],
   "source": [
    "from functools import wraps, reduce\n",
    "\n",
    "\n",
    "def coroutine(func):\n",
    "    @wraps(func)\n",
    "    def wrapper(*args, **kwargs):\n",
    "        generator = func(*args, **kwargs)\n",
    "        generator.send(None)  # иначе just-started generator..\n",
    "        return generator\n",
    "\n",
    "    return wrapper\n",
    "\n",
    "\n",
    "@coroutine\n",
    "def fact_generator(n):\n",
    "    factor = 0\n",
    "    res = 1\n",
    "\n",
    "    while factor <= n:\n",
    "        upper_limit = yield res\n",
    "        if upper_limit is not None:\n",
    "            if upper_limit > factor:\n",
    "                res *= reduce(lambda a, b: a * b, range(factor + 1, upper_limit + 1))\n",
    "                factor = upper_limit\n",
    "            else:\n",
    "                # попытка запустить исчерпанный генератор\n",
    "                raise StopIteration(f\"Generator rollback, last previous calculated value{factor} {res}\")\n",
    "        else:\n",
    "            # run without `send` command\n",
    "            factor += 1\n",
    "            res *= factor\n",
    "\n",
    "\n",
    "class HelpGenerator(object):\n",
    "    def __init__(self, generator, max_n=1):\n",
    "        self.max_n = max_n or 1\n",
    "        self.__gen = generator(max_n)\n",
    "        self.current_n = 0\n",
    "\n",
    "    def __iter__(self):\n",
    "        return self\n",
    "\n",
    "    def __next__(self):\n",
    "        self.current_n += 1\n",
    "        return next(self.__gen)\n",
    "\n",
    "    def __call__(self):\n",
    "        return self\n",
    "\n",
    "    def send(self, z):\n",
    "        return self.__gen.send(z)\n",
    "\n",
    "\n",
    "class GeneratorManager(object):\n",
    "    def __init__(self, *fact_desc):\n",
    "        self.fact_gens = [HelpGenerator(fact_generator, gen_param) for gen_param in fact_desc]\n",
    "\n",
    "    def send(self, z):\n",
    "        matched_gen, closed_num = None, 0\n",
    "\n",
    "        for cur_gen in self.fact_gens:\n",
    "            if cur_gen.current_n < z <= cur_gen.max_n:\n",
    "                matched_gen = cur_gen\n",
    "                break\n",
    "\n",
    "        if matched_gen is None:\n",
    "            print(f\"Don't have suitable generator {z}!\")\n",
    "            return None\n",
    "\n",
    "        matched_gen.current_n = z\n",
    "\n",
    "        return matched_gen.send(z)"
   ]
  },
  {
   "cell_type": "markdown",
   "metadata": {},
   "source": [
    "fact_desc - это список из чисел $n_i$ для каждого из которых создается свой генератор fact_generator($n_i$) и сохраняется в классе GeneratorManeger.\n",
    "\n",
    "send должна выбрать любой генератор из еще не исчерпавшихся и вычислить значение факториала. Если таких нет, сообщить об этом.\n",
    "\n",
    "Пример работы:"
   ]
  },
  {
   "cell_type": "code",
   "execution_count": 140,
   "metadata": {},
   "outputs": [],
   "source": [
    "gm = GeneratorManager(3, 6)"
   ]
  },
  {
   "cell_type": "code",
   "execution_count": 141,
   "metadata": {},
   "outputs": [
    {
     "data": {
      "text/plain": [
       "6"
      ]
     },
     "execution_count": 141,
     "metadata": {},
     "output_type": "execute_result"
    }
   ],
   "source": [
    "gm.send(3)"
   ]
  },
  {
   "cell_type": "code",
   "execution_count": 142,
   "metadata": {},
   "outputs": [
    {
     "data": {
      "text/plain": [
       "6"
      ]
     },
     "execution_count": 142,
     "metadata": {},
     "output_type": "execute_result"
    }
   ],
   "source": [
    "gm.send(3)"
   ]
  },
  {
   "cell_type": "code",
   "execution_count": 143,
   "metadata": {},
   "outputs": [
    {
     "name": "stdout",
     "output_type": "stream",
     "text": [
      "Don't have suitable generator 3!\n"
     ]
    }
   ],
   "source": [
    "gm.send(3)"
   ]
  },
  {
   "cell_type": "code",
   "execution_count": 144,
   "metadata": {},
   "outputs": [
    {
     "data": {
      "text/plain": [
       "120"
      ]
     },
     "execution_count": 144,
     "metadata": {},
     "output_type": "execute_result"
    }
   ],
   "source": [
    "gm.send(5)"
   ]
  },
  {
   "cell_type": "code",
   "execution_count": 145,
   "metadata": {},
   "outputs": [
    {
     "data": {
      "text/plain": [
       "720"
      ]
     },
     "execution_count": 145,
     "metadata": {},
     "output_type": "execute_result"
    }
   ],
   "source": [
    "gm.send(6)"
   ]
  },
  {
   "cell_type": "code",
   "execution_count": 146,
   "metadata": {},
   "outputs": [
    {
     "name": "stdout",
     "output_type": "stream",
     "text": [
      "Don't have suitable generator 1!\n"
     ]
    }
   ],
   "source": [
    "gm.send(1)"
   ]
  }
 ],
 "metadata": {
  "kernelspec": {
   "display_name": "Python 3",
   "language": "python",
   "name": "python3"
  },
  "language_info": {
   "codemirror_mode": {
    "name": "ipython",
    "version": 3
   },
   "file_extension": ".py",
   "mimetype": "text/x-python",
   "name": "python",
   "nbconvert_exporter": "python",
   "pygments_lexer": "ipython3",
   "version": "3.7.6"
  }
 },
 "nbformat": 4,
 "nbformat_minor": 2
}
